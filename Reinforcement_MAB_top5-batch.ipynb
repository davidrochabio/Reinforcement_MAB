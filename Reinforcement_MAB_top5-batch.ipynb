{
  "cells": [
    {
      "cell_type": "markdown",
      "metadata": {
        "id": "5KL4NhLVHJqD"
      },
      "source": [
        "#### Reinforcement Learning\n",
        "\n",
        "##### Multi Armed Bandits - Epsilon Greedy and UCB "
      ]
    },
    {
      "cell_type": "code",
      "execution_count": 1,
      "metadata": {
        "id": "ILDSZJMCdfHw"
      },
      "outputs": [],
      "source": [
        "import numpy as np\n",
        "import pandas as pd\n",
        "import matplotlib.pyplot as plt\n",
        "from tqdm import tqdm\n",
        "import math\n",
        "\n",
        "np.random.seed(7)"
      ]
    },
    {
      "cell_type": "code",
      "execution_count": 2,
      "metadata": {
        "colab": {
          "base_uri": "https://localhost:8080/",
          "height": 424
        },
        "id": "VL-rTwK8dTHU",
        "outputId": "ac06cb53-0f48-4a79-89c5-4bfa680dda7c"
      },
      "outputs": [
        {
          "data": {
            "text/html": [
              "<div>\n",
              "<style scoped>\n",
              "    .dataframe tbody tr th:only-of-type {\n",
              "        vertical-align: middle;\n",
              "    }\n",
              "\n",
              "    .dataframe tbody tr th {\n",
              "        vertical-align: top;\n",
              "    }\n",
              "\n",
              "    .dataframe thead th {\n",
              "        text-align: right;\n",
              "    }\n",
              "</style>\n",
              "<table border=\"1\" class=\"dataframe\">\n",
              "  <thead>\n",
              "    <tr style=\"text-align: right;\">\n",
              "      <th></th>\n",
              "      <th>movieId</th>\n",
              "      <th>title</th>\n",
              "      <th>genres</th>\n",
              "    </tr>\n",
              "  </thead>\n",
              "  <tbody>\n",
              "    <tr>\n",
              "      <th>0</th>\n",
              "      <td>1</td>\n",
              "      <td>Toy Story (1995)</td>\n",
              "      <td>Adventure|Animation|Children|Comedy|Fantasy</td>\n",
              "    </tr>\n",
              "    <tr>\n",
              "      <th>1</th>\n",
              "      <td>2</td>\n",
              "      <td>Jumanji (1995)</td>\n",
              "      <td>Adventure|Children|Fantasy</td>\n",
              "    </tr>\n",
              "    <tr>\n",
              "      <th>2</th>\n",
              "      <td>3</td>\n",
              "      <td>Grumpier Old Men (1995)</td>\n",
              "      <td>Comedy|Romance</td>\n",
              "    </tr>\n",
              "    <tr>\n",
              "      <th>3</th>\n",
              "      <td>4</td>\n",
              "      <td>Waiting to Exhale (1995)</td>\n",
              "      <td>Comedy|Drama|Romance</td>\n",
              "    </tr>\n",
              "    <tr>\n",
              "      <th>4</th>\n",
              "      <td>5</td>\n",
              "      <td>Father of the Bride Part II (1995)</td>\n",
              "      <td>Comedy</td>\n",
              "    </tr>\n",
              "    <tr>\n",
              "      <th>...</th>\n",
              "      <td>...</td>\n",
              "      <td>...</td>\n",
              "      <td>...</td>\n",
              "    </tr>\n",
              "    <tr>\n",
              "      <th>62418</th>\n",
              "      <td>209157</td>\n",
              "      <td>We (2018)</td>\n",
              "      <td>Drama</td>\n",
              "    </tr>\n",
              "    <tr>\n",
              "      <th>62419</th>\n",
              "      <td>209159</td>\n",
              "      <td>Window of the Soul (2001)</td>\n",
              "      <td>Documentary</td>\n",
              "    </tr>\n",
              "    <tr>\n",
              "      <th>62420</th>\n",
              "      <td>209163</td>\n",
              "      <td>Bad Poems (2018)</td>\n",
              "      <td>Comedy|Drama</td>\n",
              "    </tr>\n",
              "    <tr>\n",
              "      <th>62421</th>\n",
              "      <td>209169</td>\n",
              "      <td>A Girl Thing (2001)</td>\n",
              "      <td>(no genres listed)</td>\n",
              "    </tr>\n",
              "    <tr>\n",
              "      <th>62422</th>\n",
              "      <td>209171</td>\n",
              "      <td>Women of Devil's Island (1962)</td>\n",
              "      <td>Action|Adventure|Drama</td>\n",
              "    </tr>\n",
              "  </tbody>\n",
              "</table>\n",
              "<p>62423 rows × 3 columns</p>\n",
              "</div>"
            ],
            "text/plain": [
              "       movieId                               title  \\\n",
              "0            1                    Toy Story (1995)   \n",
              "1            2                      Jumanji (1995)   \n",
              "2            3             Grumpier Old Men (1995)   \n",
              "3            4            Waiting to Exhale (1995)   \n",
              "4            5  Father of the Bride Part II (1995)   \n",
              "...        ...                                 ...   \n",
              "62418   209157                           We (2018)   \n",
              "62419   209159           Window of the Soul (2001)   \n",
              "62420   209163                    Bad Poems (2018)   \n",
              "62421   209169                 A Girl Thing (2001)   \n",
              "62422   209171      Women of Devil's Island (1962)   \n",
              "\n",
              "                                            genres  \n",
              "0      Adventure|Animation|Children|Comedy|Fantasy  \n",
              "1                       Adventure|Children|Fantasy  \n",
              "2                                   Comedy|Romance  \n",
              "3                             Comedy|Drama|Romance  \n",
              "4                                           Comedy  \n",
              "...                                            ...  \n",
              "62418                                        Drama  \n",
              "62419                                  Documentary  \n",
              "62420                                 Comedy|Drama  \n",
              "62421                           (no genres listed)  \n",
              "62422                       Action|Adventure|Drama  \n",
              "\n",
              "[62423 rows x 3 columns]"
            ]
          },
          "execution_count": 2,
          "metadata": {},
          "output_type": "execute_result"
        }
      ],
      "source": [
        "movies = pd.read_csv('movies.csv')\n",
        "movies"
      ]
    },
    {
      "cell_type": "code",
      "execution_count": 3,
      "metadata": {
        "colab": {
          "base_uri": "https://localhost:8080/"
        },
        "id": "1efS11BfeFJZ",
        "outputId": "7d8a4a2d-7209-4222-a7ff-5b555a9a82ed"
      },
      "outputs": [
        {
          "name": "stdout",
          "output_type": "stream",
          "text": [
            "<class 'pandas.core.frame.DataFrame'>\n",
            "RangeIndex: 62423 entries, 0 to 62422\n",
            "Data columns (total 3 columns):\n",
            " #   Column   Non-Null Count  Dtype \n",
            "---  ------   --------------  ----- \n",
            " 0   movieId  62423 non-null  int64 \n",
            " 1   title    62423 non-null  object\n",
            " 2   genres   62423 non-null  object\n",
            "dtypes: int64(1), object(2)\n",
            "memory usage: 1.4+ MB\n"
          ]
        }
      ],
      "source": [
        "movies.info()"
      ]
    },
    {
      "cell_type": "code",
      "execution_count": 4,
      "metadata": {
        "colab": {
          "base_uri": "https://localhost:8080/",
          "height": 424
        },
        "id": "u_8xB0mHdydx",
        "outputId": "3de1cccc-81b0-4dd2-b296-03c1124f4d20"
      },
      "outputs": [
        {
          "data": {
            "text/html": [
              "<div>\n",
              "<style scoped>\n",
              "    .dataframe tbody tr th:only-of-type {\n",
              "        vertical-align: middle;\n",
              "    }\n",
              "\n",
              "    .dataframe tbody tr th {\n",
              "        vertical-align: top;\n",
              "    }\n",
              "\n",
              "    .dataframe thead th {\n",
              "        text-align: right;\n",
              "    }\n",
              "</style>\n",
              "<table border=\"1\" class=\"dataframe\">\n",
              "  <thead>\n",
              "    <tr style=\"text-align: right;\">\n",
              "      <th></th>\n",
              "      <th>userId</th>\n",
              "      <th>movieId</th>\n",
              "      <th>rating</th>\n",
              "      <th>timestamp</th>\n",
              "    </tr>\n",
              "  </thead>\n",
              "  <tbody>\n",
              "    <tr>\n",
              "      <th>0</th>\n",
              "      <td>1</td>\n",
              "      <td>296</td>\n",
              "      <td>5.0</td>\n",
              "      <td>1147880044</td>\n",
              "    </tr>\n",
              "    <tr>\n",
              "      <th>1</th>\n",
              "      <td>1</td>\n",
              "      <td>306</td>\n",
              "      <td>3.5</td>\n",
              "      <td>1147868817</td>\n",
              "    </tr>\n",
              "    <tr>\n",
              "      <th>2</th>\n",
              "      <td>1</td>\n",
              "      <td>307</td>\n",
              "      <td>5.0</td>\n",
              "      <td>1147868828</td>\n",
              "    </tr>\n",
              "    <tr>\n",
              "      <th>3</th>\n",
              "      <td>1</td>\n",
              "      <td>665</td>\n",
              "      <td>5.0</td>\n",
              "      <td>1147878820</td>\n",
              "    </tr>\n",
              "    <tr>\n",
              "      <th>4</th>\n",
              "      <td>1</td>\n",
              "      <td>899</td>\n",
              "      <td>3.5</td>\n",
              "      <td>1147868510</td>\n",
              "    </tr>\n",
              "    <tr>\n",
              "      <th>...</th>\n",
              "      <td>...</td>\n",
              "      <td>...</td>\n",
              "      <td>...</td>\n",
              "      <td>...</td>\n",
              "    </tr>\n",
              "    <tr>\n",
              "      <th>25000090</th>\n",
              "      <td>162541</td>\n",
              "      <td>50872</td>\n",
              "      <td>4.5</td>\n",
              "      <td>1240953372</td>\n",
              "    </tr>\n",
              "    <tr>\n",
              "      <th>25000091</th>\n",
              "      <td>162541</td>\n",
              "      <td>55768</td>\n",
              "      <td>2.5</td>\n",
              "      <td>1240951998</td>\n",
              "    </tr>\n",
              "    <tr>\n",
              "      <th>25000092</th>\n",
              "      <td>162541</td>\n",
              "      <td>56176</td>\n",
              "      <td>2.0</td>\n",
              "      <td>1240950697</td>\n",
              "    </tr>\n",
              "    <tr>\n",
              "      <th>25000093</th>\n",
              "      <td>162541</td>\n",
              "      <td>58559</td>\n",
              "      <td>4.0</td>\n",
              "      <td>1240953434</td>\n",
              "    </tr>\n",
              "    <tr>\n",
              "      <th>25000094</th>\n",
              "      <td>162541</td>\n",
              "      <td>63876</td>\n",
              "      <td>5.0</td>\n",
              "      <td>1240952515</td>\n",
              "    </tr>\n",
              "  </tbody>\n",
              "</table>\n",
              "<p>25000095 rows × 4 columns</p>\n",
              "</div>"
            ],
            "text/plain": [
              "          userId  movieId  rating   timestamp\n",
              "0              1      296     5.0  1147880044\n",
              "1              1      306     3.5  1147868817\n",
              "2              1      307     5.0  1147868828\n",
              "3              1      665     5.0  1147878820\n",
              "4              1      899     3.5  1147868510\n",
              "...          ...      ...     ...         ...\n",
              "25000090  162541    50872     4.5  1240953372\n",
              "25000091  162541    55768     2.5  1240951998\n",
              "25000092  162541    56176     2.0  1240950697\n",
              "25000093  162541    58559     4.0  1240953434\n",
              "25000094  162541    63876     5.0  1240952515\n",
              "\n",
              "[25000095 rows x 4 columns]"
            ]
          },
          "execution_count": 4,
          "metadata": {},
          "output_type": "execute_result"
        }
      ],
      "source": [
        "ratings = pd.read_csv('ratings.csv')\n",
        "ratings"
      ]
    },
    {
      "cell_type": "code",
      "execution_count": 5,
      "metadata": {
        "colab": {
          "base_uri": "https://localhost:8080/"
        },
        "id": "lh-M7RCYek1e",
        "outputId": "fa23fbd6-b3d3-4c9a-e02c-c1e6d0870bf0"
      },
      "outputs": [
        {
          "name": "stdout",
          "output_type": "stream",
          "text": [
            "<class 'pandas.core.frame.DataFrame'>\n",
            "RangeIndex: 25000095 entries, 0 to 25000094\n",
            "Data columns (total 4 columns):\n",
            " #   Column     Dtype  \n",
            "---  ------     -----  \n",
            " 0   userId     int64  \n",
            " 1   movieId    int64  \n",
            " 2   rating     float64\n",
            " 3   timestamp  int64  \n",
            "dtypes: float64(1), int64(3)\n",
            "memory usage: 762.9 MB\n"
          ]
        }
      ],
      "source": [
        "ratings.info()"
      ]
    },
    {
      "cell_type": "code",
      "execution_count": 6,
      "metadata": {
        "colab": {
          "base_uri": "https://localhost:8080/"
        },
        "id": "HDjPJEBOet-w",
        "outputId": "1287d344-c911-4a96-f166-d9b9de810a41"
      },
      "outputs": [
        {
          "data": {
            "text/plain": [
              "userId       0\n",
              "movieId      0\n",
              "rating       0\n",
              "timestamp    0\n",
              "dtype: int64"
            ]
          },
          "execution_count": 6,
          "metadata": {},
          "output_type": "execute_result"
        }
      ],
      "source": [
        "ratings.isnull().sum()"
      ]
    },
    {
      "cell_type": "code",
      "execution_count": 7,
      "metadata": {
        "colab": {
          "base_uri": "https://localhost:8080/",
          "height": 424
        },
        "id": "zxRDg2CKfaeS",
        "outputId": "6dc5506c-7c60-4dac-ae4c-f1347488ba89"
      },
      "outputs": [
        {
          "data": {
            "text/html": [
              "<div>\n",
              "<style scoped>\n",
              "    .dataframe tbody tr th:only-of-type {\n",
              "        vertical-align: middle;\n",
              "    }\n",
              "\n",
              "    .dataframe tbody tr th {\n",
              "        vertical-align: top;\n",
              "    }\n",
              "\n",
              "    .dataframe thead th {\n",
              "        text-align: right;\n",
              "    }\n",
              "</style>\n",
              "<table border=\"1\" class=\"dataframe\">\n",
              "  <thead>\n",
              "    <tr style=\"text-align: right;\">\n",
              "      <th></th>\n",
              "      <th>movieId</th>\n",
              "      <th>count</th>\n",
              "    </tr>\n",
              "  </thead>\n",
              "  <tbody>\n",
              "    <tr>\n",
              "      <th>29523</th>\n",
              "      <td>136782</td>\n",
              "      <td>1</td>\n",
              "    </tr>\n",
              "    <tr>\n",
              "      <th>34959</th>\n",
              "      <td>151011</td>\n",
              "      <td>1</td>\n",
              "    </tr>\n",
              "    <tr>\n",
              "      <th>34958</th>\n",
              "      <td>151001</td>\n",
              "      <td>1</td>\n",
              "    </tr>\n",
              "    <tr>\n",
              "      <th>34951</th>\n",
              "      <td>150962</td>\n",
              "      <td>1</td>\n",
              "    </tr>\n",
              "    <tr>\n",
              "      <th>34947</th>\n",
              "      <td>150950</td>\n",
              "      <td>1</td>\n",
              "    </tr>\n",
              "    <tr>\n",
              "      <th>...</th>\n",
              "      <td>...</td>\n",
              "      <td>...</td>\n",
              "    </tr>\n",
              "    <tr>\n",
              "      <th>2480</th>\n",
              "      <td>2571</td>\n",
              "      <td>72674</td>\n",
              "    </tr>\n",
              "    <tr>\n",
              "      <th>585</th>\n",
              "      <td>593</td>\n",
              "      <td>74127</td>\n",
              "    </tr>\n",
              "    <tr>\n",
              "      <th>292</th>\n",
              "      <td>296</td>\n",
              "      <td>79672</td>\n",
              "    </tr>\n",
              "    <tr>\n",
              "      <th>314</th>\n",
              "      <td>318</td>\n",
              "      <td>81482</td>\n",
              "    </tr>\n",
              "    <tr>\n",
              "      <th>351</th>\n",
              "      <td>356</td>\n",
              "      <td>81491</td>\n",
              "    </tr>\n",
              "  </tbody>\n",
              "</table>\n",
              "<p>59047 rows × 2 columns</p>\n",
              "</div>"
            ],
            "text/plain": [
              "       movieId  count\n",
              "29523   136782      1\n",
              "34959   151011      1\n",
              "34958   151001      1\n",
              "34951   150962      1\n",
              "34947   150950      1\n",
              "...        ...    ...\n",
              "2480      2571  72674\n",
              "585        593  74127\n",
              "292        296  79672\n",
              "314        318  81482\n",
              "351        356  81491\n",
              "\n",
              "[59047 rows x 2 columns]"
            ]
          },
          "execution_count": 7,
          "metadata": {},
          "output_type": "execute_result"
        }
      ],
      "source": [
        "# check the amount of films\n",
        "\n",
        "count_ratings = ratings.groupby('movieId', as_index=False)['userId'].count().rename(columns={'userId':'count'})\n",
        "count_ratings = count_ratings.sort_values('count')\n",
        "count_ratings"
      ]
    },
    {
      "cell_type": "markdown",
      "metadata": {
        "id": "hqs1rKMM6M2i"
      },
      "source": [
        "Retirando filmes que tem menos de 5000 avaliações."
      ]
    },
    {
      "cell_type": "code",
      "execution_count": 8,
      "metadata": {
        "colab": {
          "base_uri": "https://localhost:8080/"
        },
        "id": "MCDH53Uzij2t",
        "outputId": "3045e4ba-a58a-4ccd-c5e9-1f048f2c7c43"
      },
      "outputs": [
        {
          "data": {
            "text/plain": [
              "1223"
            ]
          },
          "execution_count": 8,
          "metadata": {},
          "output_type": "execute_result"
        }
      ],
      "source": [
        "keep = count_ratings.loc[(count_ratings['count'] >= 5000), 'movieId'].values\n",
        "\n",
        "len(keep)"
      ]
    },
    {
      "cell_type": "code",
      "execution_count": 9,
      "metadata": {
        "colab": {
          "base_uri": "https://localhost:8080/"
        },
        "id": "NrQg15N4gnoo",
        "outputId": "ba11c177-b082-43a3-8773-4b96881be0d9"
      },
      "outputs": [
        {
          "name": "stdout",
          "output_type": "stream",
          "text": [
            "<class 'pandas.core.frame.DataFrame'>\n",
            "RangeIndex: 16358020 entries, 0 to 16358019\n",
            "Data columns (total 4 columns):\n",
            " #   Column     Dtype  \n",
            "---  ------     -----  \n",
            " 0   userId     int64  \n",
            " 1   movieId    int64  \n",
            " 2   rating     float64\n",
            " 3   timestamp  int64  \n",
            "dtypes: float64(1), int64(3)\n",
            "memory usage: 499.2 MB\n"
          ]
        }
      ],
      "source": [
        "ratings = ratings.loc[(ratings['movieId'].isin(keep)), :].reset_index(drop=True)\n",
        "ratings.info()"
      ]
    },
    {
      "cell_type": "markdown",
      "metadata": {
        "id": "NFbOQisi6cKM"
      },
      "source": [
        "Variável binária - valor 1 para filmes com avaliação maior que 3 e zero para aavaliação menor que 3."
      ]
    },
    {
      "cell_type": "code",
      "execution_count": 10,
      "metadata": {
        "colab": {
          "base_uri": "https://localhost:8080/",
          "height": 424
        },
        "id": "PFP5pKhXoPn6",
        "outputId": "eeac5798-49cd-4572-dae1-c0deb5f4e06f"
      },
      "outputs": [
        {
          "data": {
            "text/html": [
              "<div>\n",
              "<style scoped>\n",
              "    .dataframe tbody tr th:only-of-type {\n",
              "        vertical-align: middle;\n",
              "    }\n",
              "\n",
              "    .dataframe tbody tr th {\n",
              "        vertical-align: top;\n",
              "    }\n",
              "\n",
              "    .dataframe thead th {\n",
              "        text-align: right;\n",
              "    }\n",
              "</style>\n",
              "<table border=\"1\" class=\"dataframe\">\n",
              "  <thead>\n",
              "    <tr style=\"text-align: right;\">\n",
              "      <th></th>\n",
              "      <th>userId</th>\n",
              "      <th>movieId</th>\n",
              "      <th>rating</th>\n",
              "      <th>timestamp</th>\n",
              "      <th>binary_rating</th>\n",
              "    </tr>\n",
              "  </thead>\n",
              "  <tbody>\n",
              "    <tr>\n",
              "      <th>0</th>\n",
              "      <td>1</td>\n",
              "      <td>296</td>\n",
              "      <td>5.0</td>\n",
              "      <td>1147880044</td>\n",
              "      <td>1</td>\n",
              "    </tr>\n",
              "    <tr>\n",
              "      <th>1</th>\n",
              "      <td>1</td>\n",
              "      <td>306</td>\n",
              "      <td>3.5</td>\n",
              "      <td>1147868817</td>\n",
              "      <td>1</td>\n",
              "    </tr>\n",
              "    <tr>\n",
              "      <th>2</th>\n",
              "      <td>1</td>\n",
              "      <td>307</td>\n",
              "      <td>5.0</td>\n",
              "      <td>1147868828</td>\n",
              "      <td>1</td>\n",
              "    </tr>\n",
              "    <tr>\n",
              "      <th>3</th>\n",
              "      <td>1</td>\n",
              "      <td>899</td>\n",
              "      <td>3.5</td>\n",
              "      <td>1147868510</td>\n",
              "      <td>1</td>\n",
              "    </tr>\n",
              "    <tr>\n",
              "      <th>4</th>\n",
              "      <td>1</td>\n",
              "      <td>1088</td>\n",
              "      <td>4.0</td>\n",
              "      <td>1147868495</td>\n",
              "      <td>1</td>\n",
              "    </tr>\n",
              "    <tr>\n",
              "      <th>...</th>\n",
              "      <td>...</td>\n",
              "      <td>...</td>\n",
              "      <td>...</td>\n",
              "      <td>...</td>\n",
              "      <td>...</td>\n",
              "    </tr>\n",
              "    <tr>\n",
              "      <th>16358015</th>\n",
              "      <td>162541</td>\n",
              "      <td>33794</td>\n",
              "      <td>4.0</td>\n",
              "      <td>1240951792</td>\n",
              "      <td>1</td>\n",
              "    </tr>\n",
              "    <tr>\n",
              "      <th>16358016</th>\n",
              "      <td>162541</td>\n",
              "      <td>41566</td>\n",
              "      <td>4.0</td>\n",
              "      <td>1240952749</td>\n",
              "      <td>1</td>\n",
              "    </tr>\n",
              "    <tr>\n",
              "      <th>16358017</th>\n",
              "      <td>162541</td>\n",
              "      <td>45517</td>\n",
              "      <td>4.5</td>\n",
              "      <td>1240953353</td>\n",
              "      <td>1</td>\n",
              "    </tr>\n",
              "    <tr>\n",
              "      <th>16358018</th>\n",
              "      <td>162541</td>\n",
              "      <td>50872</td>\n",
              "      <td>4.5</td>\n",
              "      <td>1240953372</td>\n",
              "      <td>1</td>\n",
              "    </tr>\n",
              "    <tr>\n",
              "      <th>16358019</th>\n",
              "      <td>162541</td>\n",
              "      <td>58559</td>\n",
              "      <td>4.0</td>\n",
              "      <td>1240953434</td>\n",
              "      <td>1</td>\n",
              "    </tr>\n",
              "  </tbody>\n",
              "</table>\n",
              "<p>16358020 rows × 5 columns</p>\n",
              "</div>"
            ],
            "text/plain": [
              "          userId  movieId  rating   timestamp  binary_rating\n",
              "0              1      296     5.0  1147880044              1\n",
              "1              1      306     3.5  1147868817              1\n",
              "2              1      307     5.0  1147868828              1\n",
              "3              1      899     3.5  1147868510              1\n",
              "4              1     1088     4.0  1147868495              1\n",
              "...          ...      ...     ...         ...            ...\n",
              "16358015  162541    33794     4.0  1240951792              1\n",
              "16358016  162541    41566     4.0  1240952749              1\n",
              "16358017  162541    45517     4.5  1240953353              1\n",
              "16358018  162541    50872     4.5  1240953372              1\n",
              "16358019  162541    58559     4.0  1240953434              1\n",
              "\n",
              "[16358020 rows x 5 columns]"
            ]
          },
          "execution_count": 10,
          "metadata": {},
          "output_type": "execute_result"
        }
      ],
      "source": [
        "ratings['binary_rating'] = [1 if x >= 3 else 0 for x in ratings['rating'].values]\n",
        "\n",
        "ratings"
      ]
    },
    {
      "cell_type": "code",
      "execution_count": 11,
      "metadata": {
        "colab": {
          "base_uri": "https://localhost:8080/",
          "height": 424
        },
        "id": "S1E3pK-9xdOM",
        "outputId": "c7031901-d39d-4ba0-e797-8af07d855f66"
      },
      "outputs": [
        {
          "data": {
            "text/html": [
              "<div>\n",
              "<style scoped>\n",
              "    .dataframe tbody tr th:only-of-type {\n",
              "        vertical-align: middle;\n",
              "    }\n",
              "\n",
              "    .dataframe tbody tr th {\n",
              "        vertical-align: top;\n",
              "    }\n",
              "\n",
              "    .dataframe thead th {\n",
              "        text-align: right;\n",
              "    }\n",
              "</style>\n",
              "<table border=\"1\" class=\"dataframe\">\n",
              "  <thead>\n",
              "    <tr style=\"text-align: right;\">\n",
              "      <th></th>\n",
              "      <th>userId</th>\n",
              "      <th>movieId</th>\n",
              "      <th>rating</th>\n",
              "      <th>timestamp</th>\n",
              "      <th>binary_rating</th>\n",
              "      <th>title</th>\n",
              "      <th>genres</th>\n",
              "      <th>count</th>\n",
              "    </tr>\n",
              "  </thead>\n",
              "  <tbody>\n",
              "    <tr>\n",
              "      <th>0</th>\n",
              "      <td>1</td>\n",
              "      <td>296</td>\n",
              "      <td>5.0</td>\n",
              "      <td>1147880044</td>\n",
              "      <td>1</td>\n",
              "      <td>Pulp Fiction (1994)</td>\n",
              "      <td>Comedy|Crime|Drama|Thriller</td>\n",
              "      <td>79672</td>\n",
              "    </tr>\n",
              "    <tr>\n",
              "      <th>1</th>\n",
              "      <td>1</td>\n",
              "      <td>306</td>\n",
              "      <td>3.5</td>\n",
              "      <td>1147868817</td>\n",
              "      <td>1</td>\n",
              "      <td>Three Colors: Red (Trois couleurs: Rouge) (1994)</td>\n",
              "      <td>Drama</td>\n",
              "      <td>7058</td>\n",
              "    </tr>\n",
              "    <tr>\n",
              "      <th>2</th>\n",
              "      <td>1</td>\n",
              "      <td>307</td>\n",
              "      <td>5.0</td>\n",
              "      <td>1147868828</td>\n",
              "      <td>1</td>\n",
              "      <td>Three Colors: Blue (Trois couleurs: Bleu) (1993)</td>\n",
              "      <td>Drama</td>\n",
              "      <td>6616</td>\n",
              "    </tr>\n",
              "    <tr>\n",
              "      <th>3</th>\n",
              "      <td>1</td>\n",
              "      <td>899</td>\n",
              "      <td>3.5</td>\n",
              "      <td>1147868510</td>\n",
              "      <td>1</td>\n",
              "      <td>Singin' in the Rain (1952)</td>\n",
              "      <td>Comedy|Musical|Romance</td>\n",
              "      <td>10895</td>\n",
              "    </tr>\n",
              "    <tr>\n",
              "      <th>4</th>\n",
              "      <td>1</td>\n",
              "      <td>1088</td>\n",
              "      <td>4.0</td>\n",
              "      <td>1147868495</td>\n",
              "      <td>1</td>\n",
              "      <td>Dirty Dancing (1987)</td>\n",
              "      <td>Drama|Musical|Romance</td>\n",
              "      <td>11935</td>\n",
              "    </tr>\n",
              "    <tr>\n",
              "      <th>...</th>\n",
              "      <td>...</td>\n",
              "      <td>...</td>\n",
              "      <td>...</td>\n",
              "      <td>...</td>\n",
              "      <td>...</td>\n",
              "      <td>...</td>\n",
              "      <td>...</td>\n",
              "      <td>...</td>\n",
              "    </tr>\n",
              "    <tr>\n",
              "      <th>16358015</th>\n",
              "      <td>162541</td>\n",
              "      <td>33794</td>\n",
              "      <td>4.0</td>\n",
              "      <td>1240951792</td>\n",
              "      <td>1</td>\n",
              "      <td>Batman Begins (2005)</td>\n",
              "      <td>Action|Crime|IMAX</td>\n",
              "      <td>30684</td>\n",
              "    </tr>\n",
              "    <tr>\n",
              "      <th>16358016</th>\n",
              "      <td>162541</td>\n",
              "      <td>41566</td>\n",
              "      <td>4.0</td>\n",
              "      <td>1240952749</td>\n",
              "      <td>1</td>\n",
              "      <td>Chronicles of Narnia: The Lion, the Witch and ...</td>\n",
              "      <td>Adventure|Children|Fantasy</td>\n",
              "      <td>12518</td>\n",
              "    </tr>\n",
              "    <tr>\n",
              "      <th>16358017</th>\n",
              "      <td>162541</td>\n",
              "      <td>45517</td>\n",
              "      <td>4.5</td>\n",
              "      <td>1240953353</td>\n",
              "      <td>1</td>\n",
              "      <td>Cars (2006)</td>\n",
              "      <td>Animation|Children|Comedy</td>\n",
              "      <td>8147</td>\n",
              "    </tr>\n",
              "    <tr>\n",
              "      <th>16358018</th>\n",
              "      <td>162541</td>\n",
              "      <td>50872</td>\n",
              "      <td>4.5</td>\n",
              "      <td>1240953372</td>\n",
              "      <td>1</td>\n",
              "      <td>Ratatouille (2007)</td>\n",
              "      <td>Animation|Children|Drama</td>\n",
              "      <td>19157</td>\n",
              "    </tr>\n",
              "    <tr>\n",
              "      <th>16358019</th>\n",
              "      <td>162541</td>\n",
              "      <td>58559</td>\n",
              "      <td>4.0</td>\n",
              "      <td>1240953434</td>\n",
              "      <td>1</td>\n",
              "      <td>Dark Knight, The (2008)</td>\n",
              "      <td>Action|Crime|Drama|IMAX</td>\n",
              "      <td>41519</td>\n",
              "    </tr>\n",
              "  </tbody>\n",
              "</table>\n",
              "<p>16358020 rows × 8 columns</p>\n",
              "</div>"
            ],
            "text/plain": [
              "          userId  movieId  rating   timestamp  binary_rating  \\\n",
              "0              1      296     5.0  1147880044              1   \n",
              "1              1      306     3.5  1147868817              1   \n",
              "2              1      307     5.0  1147868828              1   \n",
              "3              1      899     3.5  1147868510              1   \n",
              "4              1     1088     4.0  1147868495              1   \n",
              "...          ...      ...     ...         ...            ...   \n",
              "16358015  162541    33794     4.0  1240951792              1   \n",
              "16358016  162541    41566     4.0  1240952749              1   \n",
              "16358017  162541    45517     4.5  1240953353              1   \n",
              "16358018  162541    50872     4.5  1240953372              1   \n",
              "16358019  162541    58559     4.0  1240953434              1   \n",
              "\n",
              "                                                      title  \\\n",
              "0                                       Pulp Fiction (1994)   \n",
              "1          Three Colors: Red (Trois couleurs: Rouge) (1994)   \n",
              "2          Three Colors: Blue (Trois couleurs: Bleu) (1993)   \n",
              "3                                Singin' in the Rain (1952)   \n",
              "4                                      Dirty Dancing (1987)   \n",
              "...                                                     ...   \n",
              "16358015                               Batman Begins (2005)   \n",
              "16358016  Chronicles of Narnia: The Lion, the Witch and ...   \n",
              "16358017                                        Cars (2006)   \n",
              "16358018                                 Ratatouille (2007)   \n",
              "16358019                            Dark Knight, The (2008)   \n",
              "\n",
              "                               genres  count  \n",
              "0         Comedy|Crime|Drama|Thriller  79672  \n",
              "1                               Drama   7058  \n",
              "2                               Drama   6616  \n",
              "3              Comedy|Musical|Romance  10895  \n",
              "4               Drama|Musical|Romance  11935  \n",
              "...                               ...    ...  \n",
              "16358015            Action|Crime|IMAX  30684  \n",
              "16358016   Adventure|Children|Fantasy  12518  \n",
              "16358017    Animation|Children|Comedy   8147  \n",
              "16358018     Animation|Children|Drama  19157  \n",
              "16358019      Action|Crime|Drama|IMAX  41519  \n",
              "\n",
              "[16358020 rows x 8 columns]"
            ]
          },
          "execution_count": 11,
          "metadata": {},
          "output_type": "execute_result"
        }
      ],
      "source": [
        "# merge dataframes\n",
        "df = pd.merge(ratings, movies, how='left', on='movieId')\n",
        "df = pd.merge(df, count_ratings, how='left', on='movieId')\n",
        "df"
      ]
    },
    {
      "cell_type": "markdown",
      "metadata": {
        "id": "__rprkWR624g"
      },
      "source": [
        "Pivot table - users in the index and films in the columns"
      ]
    },
    {
      "cell_type": "code",
      "execution_count": 12,
      "metadata": {
        "colab": {
          "base_uri": "https://localhost:8080/",
          "height": 409
        },
        "id": "RVMdYk_ODdEE",
        "outputId": "7480d4c0-4288-4c50-b70d-1e58eb879954"
      },
      "outputs": [
        {
          "data": {
            "text/html": [
              "<div>\n",
              "<style scoped>\n",
              "    .dataframe tbody tr th:only-of-type {\n",
              "        vertical-align: middle;\n",
              "    }\n",
              "\n",
              "    .dataframe tbody tr th {\n",
              "        vertical-align: top;\n",
              "    }\n",
              "\n",
              "    .dataframe thead th {\n",
              "        text-align: right;\n",
              "    }\n",
              "</style>\n",
              "<table border=\"1\" class=\"dataframe\">\n",
              "  <thead>\n",
              "    <tr style=\"text-align: right;\">\n",
              "      <th>title</th>\n",
              "      <th>(500) Days of Summer (2009)</th>\n",
              "      <th>10 Things I Hate About You (1999)</th>\n",
              "      <th>101 Dalmatians (1996)</th>\n",
              "      <th>101 Dalmatians (One Hundred and One Dalmatians) (1961)</th>\n",
              "      <th>12 Angry Men (1957)</th>\n",
              "      <th>12 Years a Slave (2013)</th>\n",
              "      <th>127 Hours (2010)</th>\n",
              "      <th>13 Going on 30 (2004)</th>\n",
              "      <th>13th Warrior, The (1999)</th>\n",
              "      <th>2 Fast 2 Furious (Fast and the Furious 2, The) (2003)</th>\n",
              "      <th>...</th>\n",
              "      <th>You've Got Mail (1998)</th>\n",
              "      <th>Young Frankenstein (1974)</th>\n",
              "      <th>Young Guns (1988)</th>\n",
              "      <th>Zodiac (2007)</th>\n",
              "      <th>Zombieland (2009)</th>\n",
              "      <th>Zoolander (2001)</th>\n",
              "      <th>Zootopia (2016)</th>\n",
              "      <th>eXistenZ (1999)</th>\n",
              "      <th>xXx (2002)</th>\n",
              "      <th>¡Three Amigos! (1986)</th>\n",
              "    </tr>\n",
              "    <tr>\n",
              "      <th>userId</th>\n",
              "      <th></th>\n",
              "      <th></th>\n",
              "      <th></th>\n",
              "      <th></th>\n",
              "      <th></th>\n",
              "      <th></th>\n",
              "      <th></th>\n",
              "      <th></th>\n",
              "      <th></th>\n",
              "      <th></th>\n",
              "      <th></th>\n",
              "      <th></th>\n",
              "      <th></th>\n",
              "      <th></th>\n",
              "      <th></th>\n",
              "      <th></th>\n",
              "      <th></th>\n",
              "      <th></th>\n",
              "      <th></th>\n",
              "      <th></th>\n",
              "      <th></th>\n",
              "    </tr>\n",
              "  </thead>\n",
              "  <tbody>\n",
              "    <tr>\n",
              "      <th>1</th>\n",
              "      <td>0.0</td>\n",
              "      <td>0.0</td>\n",
              "      <td>0.0</td>\n",
              "      <td>0.0</td>\n",
              "      <td>0.0</td>\n",
              "      <td>0.0</td>\n",
              "      <td>0.0</td>\n",
              "      <td>0.0</td>\n",
              "      <td>0.0</td>\n",
              "      <td>0.0</td>\n",
              "      <td>...</td>\n",
              "      <td>0.0</td>\n",
              "      <td>0.0</td>\n",
              "      <td>0.0</td>\n",
              "      <td>0.0</td>\n",
              "      <td>0.0</td>\n",
              "      <td>0.0</td>\n",
              "      <td>0.0</td>\n",
              "      <td>0.0</td>\n",
              "      <td>0.0</td>\n",
              "      <td>0.0</td>\n",
              "    </tr>\n",
              "    <tr>\n",
              "      <th>2</th>\n",
              "      <td>0.0</td>\n",
              "      <td>0.0</td>\n",
              "      <td>0.0</td>\n",
              "      <td>0.0</td>\n",
              "      <td>0.0</td>\n",
              "      <td>0.0</td>\n",
              "      <td>0.0</td>\n",
              "      <td>0.0</td>\n",
              "      <td>0.0</td>\n",
              "      <td>0.0</td>\n",
              "      <td>...</td>\n",
              "      <td>0.0</td>\n",
              "      <td>0.0</td>\n",
              "      <td>0.0</td>\n",
              "      <td>0.0</td>\n",
              "      <td>0.0</td>\n",
              "      <td>0.0</td>\n",
              "      <td>0.0</td>\n",
              "      <td>0.0</td>\n",
              "      <td>0.0</td>\n",
              "      <td>0.0</td>\n",
              "    </tr>\n",
              "    <tr>\n",
              "      <th>3</th>\n",
              "      <td>0.0</td>\n",
              "      <td>0.0</td>\n",
              "      <td>0.0</td>\n",
              "      <td>0.0</td>\n",
              "      <td>0.0</td>\n",
              "      <td>0.0</td>\n",
              "      <td>0.0</td>\n",
              "      <td>0.0</td>\n",
              "      <td>0.0</td>\n",
              "      <td>1.0</td>\n",
              "      <td>...</td>\n",
              "      <td>0.0</td>\n",
              "      <td>0.0</td>\n",
              "      <td>0.0</td>\n",
              "      <td>0.0</td>\n",
              "      <td>1.0</td>\n",
              "      <td>1.0</td>\n",
              "      <td>0.0</td>\n",
              "      <td>0.0</td>\n",
              "      <td>1.0</td>\n",
              "      <td>0.0</td>\n",
              "    </tr>\n",
              "    <tr>\n",
              "      <th>4</th>\n",
              "      <td>0.0</td>\n",
              "      <td>0.0</td>\n",
              "      <td>0.0</td>\n",
              "      <td>0.0</td>\n",
              "      <td>0.0</td>\n",
              "      <td>0.0</td>\n",
              "      <td>0.0</td>\n",
              "      <td>0.0</td>\n",
              "      <td>0.0</td>\n",
              "      <td>0.0</td>\n",
              "      <td>...</td>\n",
              "      <td>0.0</td>\n",
              "      <td>1.0</td>\n",
              "      <td>0.0</td>\n",
              "      <td>0.0</td>\n",
              "      <td>0.0</td>\n",
              "      <td>1.0</td>\n",
              "      <td>1.0</td>\n",
              "      <td>0.0</td>\n",
              "      <td>0.0</td>\n",
              "      <td>0.0</td>\n",
              "    </tr>\n",
              "    <tr>\n",
              "      <th>5</th>\n",
              "      <td>0.0</td>\n",
              "      <td>0.0</td>\n",
              "      <td>0.0</td>\n",
              "      <td>0.0</td>\n",
              "      <td>0.0</td>\n",
              "      <td>0.0</td>\n",
              "      <td>0.0</td>\n",
              "      <td>0.0</td>\n",
              "      <td>0.0</td>\n",
              "      <td>0.0</td>\n",
              "      <td>...</td>\n",
              "      <td>0.0</td>\n",
              "      <td>0.0</td>\n",
              "      <td>0.0</td>\n",
              "      <td>0.0</td>\n",
              "      <td>0.0</td>\n",
              "      <td>0.0</td>\n",
              "      <td>0.0</td>\n",
              "      <td>0.0</td>\n",
              "      <td>0.0</td>\n",
              "      <td>0.0</td>\n",
              "    </tr>\n",
              "  </tbody>\n",
              "</table>\n",
              "<p>5 rows × 1223 columns</p>\n",
              "</div>"
            ],
            "text/plain": [
              "title   (500) Days of Summer (2009)  10 Things I Hate About You (1999)  \\\n",
              "userId                                                                   \n",
              "1                               0.0                                0.0   \n",
              "2                               0.0                                0.0   \n",
              "3                               0.0                                0.0   \n",
              "4                               0.0                                0.0   \n",
              "5                               0.0                                0.0   \n",
              "\n",
              "title   101 Dalmatians (1996)  \\\n",
              "userId                          \n",
              "1                         0.0   \n",
              "2                         0.0   \n",
              "3                         0.0   \n",
              "4                         0.0   \n",
              "5                         0.0   \n",
              "\n",
              "title   101 Dalmatians (One Hundred and One Dalmatians) (1961)  \\\n",
              "userId                                                           \n",
              "1                                                     0.0        \n",
              "2                                                     0.0        \n",
              "3                                                     0.0        \n",
              "4                                                     0.0        \n",
              "5                                                     0.0        \n",
              "\n",
              "title   12 Angry Men (1957)  12 Years a Slave (2013)  127 Hours (2010)  \\\n",
              "userId                                                                   \n",
              "1                       0.0                      0.0               0.0   \n",
              "2                       0.0                      0.0               0.0   \n",
              "3                       0.0                      0.0               0.0   \n",
              "4                       0.0                      0.0               0.0   \n",
              "5                       0.0                      0.0               0.0   \n",
              "\n",
              "title   13 Going on 30 (2004)  13th Warrior, The (1999)  \\\n",
              "userId                                                    \n",
              "1                         0.0                       0.0   \n",
              "2                         0.0                       0.0   \n",
              "3                         0.0                       0.0   \n",
              "4                         0.0                       0.0   \n",
              "5                         0.0                       0.0   \n",
              "\n",
              "title   2 Fast 2 Furious (Fast and the Furious 2, The) (2003)  ...  \\\n",
              "userId                                                         ...   \n",
              "1                                                     0.0      ...   \n",
              "2                                                     0.0      ...   \n",
              "3                                                     1.0      ...   \n",
              "4                                                     0.0      ...   \n",
              "5                                                     0.0      ...   \n",
              "\n",
              "title   You've Got Mail (1998)  Young Frankenstein (1974)  Young Guns (1988)  \\\n",
              "userId                                                                         \n",
              "1                          0.0                        0.0                0.0   \n",
              "2                          0.0                        0.0                0.0   \n",
              "3                          0.0                        0.0                0.0   \n",
              "4                          0.0                        1.0                0.0   \n",
              "5                          0.0                        0.0                0.0   \n",
              "\n",
              "title   Zodiac (2007)  Zombieland (2009)  Zoolander (2001)  Zootopia (2016)  \\\n",
              "userId                                                                        \n",
              "1                 0.0                0.0               0.0              0.0   \n",
              "2                 0.0                0.0               0.0              0.0   \n",
              "3                 0.0                1.0               1.0              0.0   \n",
              "4                 0.0                0.0               1.0              1.0   \n",
              "5                 0.0                0.0               0.0              0.0   \n",
              "\n",
              "title   eXistenZ (1999)  xXx (2002)  ¡Three Amigos! (1986)  \n",
              "userId                                                      \n",
              "1                   0.0         0.0                    0.0  \n",
              "2                   0.0         0.0                    0.0  \n",
              "3                   0.0         1.0                    0.0  \n",
              "4                   0.0         0.0                    0.0  \n",
              "5                   0.0         0.0                    0.0  \n",
              "\n",
              "[5 rows x 1223 columns]"
            ]
          },
          "execution_count": 12,
          "metadata": {},
          "output_type": "execute_result"
        }
      ],
      "source": [
        "users = pd.pivot_table(df, index='userId', values='binary_rating', columns='title')\n",
        "users = users.fillna(0)\n",
        "users.head()"
      ]
    },
    {
      "cell_type": "code",
      "execution_count": 13,
      "metadata": {
        "colab": {
          "base_uri": "https://localhost:8080/",
          "height": 424
        },
        "id": "45SLVoKfReOd",
        "outputId": "d2445515-0811-41ba-8c22-68001bf34d89"
      },
      "outputs": [
        {
          "data": {
            "text/html": [
              "<div>\n",
              "<style scoped>\n",
              "    .dataframe tbody tr th:only-of-type {\n",
              "        vertical-align: middle;\n",
              "    }\n",
              "\n",
              "    .dataframe tbody tr th {\n",
              "        vertical-align: top;\n",
              "    }\n",
              "\n",
              "    .dataframe thead th {\n",
              "        text-align: right;\n",
              "    }\n",
              "</style>\n",
              "<table border=\"1\" class=\"dataframe\">\n",
              "  <thead>\n",
              "    <tr style=\"text-align: right;\">\n",
              "      <th></th>\n",
              "      <th>title</th>\n",
              "      <th>positive evaluations</th>\n",
              "    </tr>\n",
              "  </thead>\n",
              "  <tbody>\n",
              "    <tr>\n",
              "      <th>0</th>\n",
              "      <td>Shawshank Redemption, The (1994)</td>\n",
              "      <td>79105.0</td>\n",
              "    </tr>\n",
              "    <tr>\n",
              "      <th>1</th>\n",
              "      <td>Forrest Gump (1994)</td>\n",
              "      <td>75440.0</td>\n",
              "    </tr>\n",
              "    <tr>\n",
              "      <th>2</th>\n",
              "      <td>Pulp Fiction (1994)</td>\n",
              "      <td>74297.0</td>\n",
              "    </tr>\n",
              "    <tr>\n",
              "      <th>3</th>\n",
              "      <td>Silence of the Lambs, The (1991)</td>\n",
              "      <td>70495.0</td>\n",
              "    </tr>\n",
              "    <tr>\n",
              "      <th>4</th>\n",
              "      <td>Matrix, The (1999)</td>\n",
              "      <td>67650.0</td>\n",
              "    </tr>\n",
              "    <tr>\n",
              "      <th>...</th>\n",
              "      <td>...</td>\n",
              "      <td>...</td>\n",
              "    </tr>\n",
              "    <tr>\n",
              "      <th>1218</th>\n",
              "      <td>Island of Dr. Moreau, The (1996)</td>\n",
              "      <td>2445.0</td>\n",
              "    </tr>\n",
              "    <tr>\n",
              "      <th>1219</th>\n",
              "      <td>Charlie's Angels: Full Throttle (2003)</td>\n",
              "      <td>2431.0</td>\n",
              "    </tr>\n",
              "    <tr>\n",
              "      <th>1220</th>\n",
              "      <td>Anaconda (1997)</td>\n",
              "      <td>1771.0</td>\n",
              "    </tr>\n",
              "    <tr>\n",
              "      <th>1221</th>\n",
              "      <td>Super Mario Bros. (1993)</td>\n",
              "      <td>1747.0</td>\n",
              "    </tr>\n",
              "    <tr>\n",
              "      <th>1222</th>\n",
              "      <td>Speed 2: Cruise Control (1997)</td>\n",
              "      <td>1178.0</td>\n",
              "    </tr>\n",
              "  </tbody>\n",
              "</table>\n",
              "<p>1223 rows × 2 columns</p>\n",
              "</div>"
            ],
            "text/plain": [
              "                                       title  positive evaluations\n",
              "0           Shawshank Redemption, The (1994)               79105.0\n",
              "1                        Forrest Gump (1994)               75440.0\n",
              "2                        Pulp Fiction (1994)               74297.0\n",
              "3           Silence of the Lambs, The (1991)               70495.0\n",
              "4                         Matrix, The (1999)               67650.0\n",
              "...                                      ...                   ...\n",
              "1218        Island of Dr. Moreau, The (1996)                2445.0\n",
              "1219  Charlie's Angels: Full Throttle (2003)                2431.0\n",
              "1220                         Anaconda (1997)                1771.0\n",
              "1221                Super Mario Bros. (1993)                1747.0\n",
              "1222          Speed 2: Cruise Control (1997)                1178.0\n",
              "\n",
              "[1223 rows x 2 columns]"
            ]
          },
          "execution_count": 13,
          "metadata": {},
          "output_type": "execute_result"
        }
      ],
      "source": [
        "# checking highest rated movies\n",
        "\n",
        "positive = users.sum().to_frame().reset_index().rename(columns={'index':'movies', 0: 'positive evaluations'})\n",
        "positive = positive.sort_values('positive evaluations', ascending=False).reset_index(drop=True)\n",
        "positive"
      ]
    },
    {
      "cell_type": "code",
      "execution_count": 14,
      "metadata": {
        "colab": {
          "base_uri": "https://localhost:8080/"
        },
        "id": "SgwLRfvtEECx",
        "outputId": "bf7ceb18-6619-4b69-bd80-6bada631b64f"
      },
      "outputs": [
        {
          "data": {
            "text/plain": [
              "162520"
            ]
          },
          "execution_count": 14,
          "metadata": {},
          "output_type": "execute_result"
        }
      ],
      "source": [
        "# amount of users\n",
        "\n",
        "df['userId'].nunique()"
      ]
    },
    {
      "cell_type": "code",
      "execution_count": 15,
      "metadata": {
        "colab": {
          "base_uri": "https://localhost:8080/",
          "height": 377
        },
        "id": "4bJU0YY7JZHI",
        "outputId": "890406cd-84c7-482b-84ae-0d1eaadd10c2"
      },
      "outputs": [
        {
          "data": {
            "text/html": [
              "<div>\n",
              "<style scoped>\n",
              "    .dataframe tbody tr th:only-of-type {\n",
              "        vertical-align: middle;\n",
              "    }\n",
              "\n",
              "    .dataframe tbody tr th {\n",
              "        vertical-align: top;\n",
              "    }\n",
              "\n",
              "    .dataframe thead th {\n",
              "        text-align: right;\n",
              "    }\n",
              "</style>\n",
              "<table border=\"1\" class=\"dataframe\">\n",
              "  <thead>\n",
              "    <tr style=\"text-align: right;\">\n",
              "      <th></th>\n",
              "      <th>userId</th>\n",
              "      <th>(500) Days of Summer (2009)</th>\n",
              "      <th>10 Things I Hate About You (1999)</th>\n",
              "      <th>101 Dalmatians (1996)</th>\n",
              "      <th>101 Dalmatians (One Hundred and One Dalmatians) (1961)</th>\n",
              "      <th>12 Angry Men (1957)</th>\n",
              "      <th>12 Years a Slave (2013)</th>\n",
              "      <th>127 Hours (2010)</th>\n",
              "      <th>13 Going on 30 (2004)</th>\n",
              "      <th>13th Warrior, The (1999)</th>\n",
              "      <th>...</th>\n",
              "      <th>You've Got Mail (1998)</th>\n",
              "      <th>Young Frankenstein (1974)</th>\n",
              "      <th>Young Guns (1988)</th>\n",
              "      <th>Zodiac (2007)</th>\n",
              "      <th>Zombieland (2009)</th>\n",
              "      <th>Zoolander (2001)</th>\n",
              "      <th>Zootopia (2016)</th>\n",
              "      <th>eXistenZ (1999)</th>\n",
              "      <th>xXx (2002)</th>\n",
              "      <th>¡Three Amigos! (1986)</th>\n",
              "    </tr>\n",
              "  </thead>\n",
              "  <tbody>\n",
              "    <tr>\n",
              "      <th>0</th>\n",
              "      <td>1</td>\n",
              "      <td>0.0</td>\n",
              "      <td>0.0</td>\n",
              "      <td>0.0</td>\n",
              "      <td>0.0</td>\n",
              "      <td>0.0</td>\n",
              "      <td>0.0</td>\n",
              "      <td>0.0</td>\n",
              "      <td>0.0</td>\n",
              "      <td>0.0</td>\n",
              "      <td>...</td>\n",
              "      <td>0.0</td>\n",
              "      <td>0.0</td>\n",
              "      <td>0.0</td>\n",
              "      <td>0.0</td>\n",
              "      <td>0.0</td>\n",
              "      <td>0.0</td>\n",
              "      <td>0.0</td>\n",
              "      <td>0.0</td>\n",
              "      <td>0.0</td>\n",
              "      <td>0.0</td>\n",
              "    </tr>\n",
              "    <tr>\n",
              "      <th>1</th>\n",
              "      <td>2</td>\n",
              "      <td>0.0</td>\n",
              "      <td>0.0</td>\n",
              "      <td>0.0</td>\n",
              "      <td>0.0</td>\n",
              "      <td>0.0</td>\n",
              "      <td>0.0</td>\n",
              "      <td>0.0</td>\n",
              "      <td>0.0</td>\n",
              "      <td>0.0</td>\n",
              "      <td>...</td>\n",
              "      <td>0.0</td>\n",
              "      <td>0.0</td>\n",
              "      <td>0.0</td>\n",
              "      <td>0.0</td>\n",
              "      <td>0.0</td>\n",
              "      <td>0.0</td>\n",
              "      <td>0.0</td>\n",
              "      <td>0.0</td>\n",
              "      <td>0.0</td>\n",
              "      <td>0.0</td>\n",
              "    </tr>\n",
              "    <tr>\n",
              "      <th>2</th>\n",
              "      <td>3</td>\n",
              "      <td>0.0</td>\n",
              "      <td>0.0</td>\n",
              "      <td>0.0</td>\n",
              "      <td>0.0</td>\n",
              "      <td>0.0</td>\n",
              "      <td>0.0</td>\n",
              "      <td>0.0</td>\n",
              "      <td>0.0</td>\n",
              "      <td>0.0</td>\n",
              "      <td>...</td>\n",
              "      <td>0.0</td>\n",
              "      <td>0.0</td>\n",
              "      <td>0.0</td>\n",
              "      <td>0.0</td>\n",
              "      <td>1.0</td>\n",
              "      <td>1.0</td>\n",
              "      <td>0.0</td>\n",
              "      <td>0.0</td>\n",
              "      <td>1.0</td>\n",
              "      <td>0.0</td>\n",
              "    </tr>\n",
              "    <tr>\n",
              "      <th>3</th>\n",
              "      <td>4</td>\n",
              "      <td>0.0</td>\n",
              "      <td>0.0</td>\n",
              "      <td>0.0</td>\n",
              "      <td>0.0</td>\n",
              "      <td>0.0</td>\n",
              "      <td>0.0</td>\n",
              "      <td>0.0</td>\n",
              "      <td>0.0</td>\n",
              "      <td>0.0</td>\n",
              "      <td>...</td>\n",
              "      <td>0.0</td>\n",
              "      <td>1.0</td>\n",
              "      <td>0.0</td>\n",
              "      <td>0.0</td>\n",
              "      <td>0.0</td>\n",
              "      <td>1.0</td>\n",
              "      <td>1.0</td>\n",
              "      <td>0.0</td>\n",
              "      <td>0.0</td>\n",
              "      <td>0.0</td>\n",
              "    </tr>\n",
              "    <tr>\n",
              "      <th>4</th>\n",
              "      <td>5</td>\n",
              "      <td>0.0</td>\n",
              "      <td>0.0</td>\n",
              "      <td>0.0</td>\n",
              "      <td>0.0</td>\n",
              "      <td>0.0</td>\n",
              "      <td>0.0</td>\n",
              "      <td>0.0</td>\n",
              "      <td>0.0</td>\n",
              "      <td>0.0</td>\n",
              "      <td>...</td>\n",
              "      <td>0.0</td>\n",
              "      <td>0.0</td>\n",
              "      <td>0.0</td>\n",
              "      <td>0.0</td>\n",
              "      <td>0.0</td>\n",
              "      <td>0.0</td>\n",
              "      <td>0.0</td>\n",
              "      <td>0.0</td>\n",
              "      <td>0.0</td>\n",
              "      <td>0.0</td>\n",
              "    </tr>\n",
              "  </tbody>\n",
              "</table>\n",
              "<p>5 rows × 1224 columns</p>\n",
              "</div>"
            ],
            "text/plain": [
              "   userId  (500) Days of Summer (2009)  10 Things I Hate About You (1999)  \\\n",
              "0       1                          0.0                                0.0   \n",
              "1       2                          0.0                                0.0   \n",
              "2       3                          0.0                                0.0   \n",
              "3       4                          0.0                                0.0   \n",
              "4       5                          0.0                                0.0   \n",
              "\n",
              "   101 Dalmatians (1996)  \\\n",
              "0                    0.0   \n",
              "1                    0.0   \n",
              "2                    0.0   \n",
              "3                    0.0   \n",
              "4                    0.0   \n",
              "\n",
              "   101 Dalmatians (One Hundred and One Dalmatians) (1961)  \\\n",
              "0                                                0.0        \n",
              "1                                                0.0        \n",
              "2                                                0.0        \n",
              "3                                                0.0        \n",
              "4                                                0.0        \n",
              "\n",
              "   12 Angry Men (1957)  12 Years a Slave (2013)  127 Hours (2010)  \\\n",
              "0                  0.0                      0.0               0.0   \n",
              "1                  0.0                      0.0               0.0   \n",
              "2                  0.0                      0.0               0.0   \n",
              "3                  0.0                      0.0               0.0   \n",
              "4                  0.0                      0.0               0.0   \n",
              "\n",
              "   13 Going on 30 (2004)  13th Warrior, The (1999)  ...  \\\n",
              "0                    0.0                       0.0  ...   \n",
              "1                    0.0                       0.0  ...   \n",
              "2                    0.0                       0.0  ...   \n",
              "3                    0.0                       0.0  ...   \n",
              "4                    0.0                       0.0  ...   \n",
              "\n",
              "   You've Got Mail (1998)  Young Frankenstein (1974)  Young Guns (1988)  \\\n",
              "0                     0.0                        0.0                0.0   \n",
              "1                     0.0                        0.0                0.0   \n",
              "2                     0.0                        0.0                0.0   \n",
              "3                     0.0                        1.0                0.0   \n",
              "4                     0.0                        0.0                0.0   \n",
              "\n",
              "   Zodiac (2007)  Zombieland (2009)  Zoolander (2001)  Zootopia (2016)  \\\n",
              "0            0.0                0.0               0.0              0.0   \n",
              "1            0.0                0.0               0.0              0.0   \n",
              "2            0.0                1.0               1.0              0.0   \n",
              "3            0.0                0.0               1.0              1.0   \n",
              "4            0.0                0.0               0.0              0.0   \n",
              "\n",
              "   eXistenZ (1999)  xXx (2002)  ¡Three Amigos! (1986)  \n",
              "0              0.0         0.0                    0.0  \n",
              "1              0.0         0.0                    0.0  \n",
              "2              0.0         1.0                    0.0  \n",
              "3              0.0         0.0                    0.0  \n",
              "4              0.0         0.0                    0.0  \n",
              "\n",
              "[5 rows x 1224 columns]"
            ]
          },
          "execution_count": 15,
          "metadata": {},
          "output_type": "execute_result"
        }
      ],
      "source": [
        "users = pd.DataFrame(users.to_records())\n",
        "users.head()"
      ]
    },
    {
      "cell_type": "code",
      "execution_count": 16,
      "metadata": {
        "colab": {
          "base_uri": "https://localhost:8080/",
          "height": 377
        },
        "id": "4tY655CvLUWe",
        "outputId": "901a422a-6763-42c0-b011-14aea5a5f73a"
      },
      "outputs": [
        {
          "data": {
            "text/html": [
              "<div>\n",
              "<style scoped>\n",
              "    .dataframe tbody tr th:only-of-type {\n",
              "        vertical-align: middle;\n",
              "    }\n",
              "\n",
              "    .dataframe tbody tr th {\n",
              "        vertical-align: top;\n",
              "    }\n",
              "\n",
              "    .dataframe thead th {\n",
              "        text-align: right;\n",
              "    }\n",
              "</style>\n",
              "<table border=\"1\" class=\"dataframe\">\n",
              "  <thead>\n",
              "    <tr style=\"text-align: right;\">\n",
              "      <th></th>\n",
              "      <th>(500) Days of Summer (2009)</th>\n",
              "      <th>10 Things I Hate About You (1999)</th>\n",
              "      <th>101 Dalmatians (1996)</th>\n",
              "      <th>101 Dalmatians (One Hundred and One Dalmatians) (1961)</th>\n",
              "      <th>12 Angry Men (1957)</th>\n",
              "      <th>12 Years a Slave (2013)</th>\n",
              "      <th>127 Hours (2010)</th>\n",
              "      <th>13 Going on 30 (2004)</th>\n",
              "      <th>13th Warrior, The (1999)</th>\n",
              "      <th>2 Fast 2 Furious (Fast and the Furious 2, The) (2003)</th>\n",
              "      <th>...</th>\n",
              "      <th>You've Got Mail (1998)</th>\n",
              "      <th>Young Frankenstein (1974)</th>\n",
              "      <th>Young Guns (1988)</th>\n",
              "      <th>Zodiac (2007)</th>\n",
              "      <th>Zombieland (2009)</th>\n",
              "      <th>Zoolander (2001)</th>\n",
              "      <th>Zootopia (2016)</th>\n",
              "      <th>eXistenZ (1999)</th>\n",
              "      <th>xXx (2002)</th>\n",
              "      <th>¡Three Amigos! (1986)</th>\n",
              "    </tr>\n",
              "  </thead>\n",
              "  <tbody>\n",
              "    <tr>\n",
              "      <th>0</th>\n",
              "      <td>0.0</td>\n",
              "      <td>0.0</td>\n",
              "      <td>0.0</td>\n",
              "      <td>0.0</td>\n",
              "      <td>0.0</td>\n",
              "      <td>0.0</td>\n",
              "      <td>0.0</td>\n",
              "      <td>0.0</td>\n",
              "      <td>0.0</td>\n",
              "      <td>0.0</td>\n",
              "      <td>...</td>\n",
              "      <td>0.0</td>\n",
              "      <td>0.0</td>\n",
              "      <td>0.0</td>\n",
              "      <td>0.0</td>\n",
              "      <td>0.0</td>\n",
              "      <td>0.0</td>\n",
              "      <td>0.0</td>\n",
              "      <td>0.0</td>\n",
              "      <td>0.0</td>\n",
              "      <td>0.0</td>\n",
              "    </tr>\n",
              "    <tr>\n",
              "      <th>1</th>\n",
              "      <td>0.0</td>\n",
              "      <td>0.0</td>\n",
              "      <td>0.0</td>\n",
              "      <td>0.0</td>\n",
              "      <td>0.0</td>\n",
              "      <td>0.0</td>\n",
              "      <td>0.0</td>\n",
              "      <td>0.0</td>\n",
              "      <td>0.0</td>\n",
              "      <td>0.0</td>\n",
              "      <td>...</td>\n",
              "      <td>0.0</td>\n",
              "      <td>0.0</td>\n",
              "      <td>0.0</td>\n",
              "      <td>0.0</td>\n",
              "      <td>0.0</td>\n",
              "      <td>0.0</td>\n",
              "      <td>0.0</td>\n",
              "      <td>0.0</td>\n",
              "      <td>0.0</td>\n",
              "      <td>0.0</td>\n",
              "    </tr>\n",
              "    <tr>\n",
              "      <th>2</th>\n",
              "      <td>0.0</td>\n",
              "      <td>0.0</td>\n",
              "      <td>0.0</td>\n",
              "      <td>0.0</td>\n",
              "      <td>0.0</td>\n",
              "      <td>0.0</td>\n",
              "      <td>0.0</td>\n",
              "      <td>0.0</td>\n",
              "      <td>0.0</td>\n",
              "      <td>1.0</td>\n",
              "      <td>...</td>\n",
              "      <td>0.0</td>\n",
              "      <td>0.0</td>\n",
              "      <td>0.0</td>\n",
              "      <td>0.0</td>\n",
              "      <td>1.0</td>\n",
              "      <td>1.0</td>\n",
              "      <td>0.0</td>\n",
              "      <td>0.0</td>\n",
              "      <td>1.0</td>\n",
              "      <td>0.0</td>\n",
              "    </tr>\n",
              "    <tr>\n",
              "      <th>3</th>\n",
              "      <td>0.0</td>\n",
              "      <td>0.0</td>\n",
              "      <td>0.0</td>\n",
              "      <td>0.0</td>\n",
              "      <td>0.0</td>\n",
              "      <td>0.0</td>\n",
              "      <td>0.0</td>\n",
              "      <td>0.0</td>\n",
              "      <td>0.0</td>\n",
              "      <td>0.0</td>\n",
              "      <td>...</td>\n",
              "      <td>0.0</td>\n",
              "      <td>1.0</td>\n",
              "      <td>0.0</td>\n",
              "      <td>0.0</td>\n",
              "      <td>0.0</td>\n",
              "      <td>1.0</td>\n",
              "      <td>1.0</td>\n",
              "      <td>0.0</td>\n",
              "      <td>0.0</td>\n",
              "      <td>0.0</td>\n",
              "    </tr>\n",
              "    <tr>\n",
              "      <th>4</th>\n",
              "      <td>0.0</td>\n",
              "      <td>0.0</td>\n",
              "      <td>0.0</td>\n",
              "      <td>0.0</td>\n",
              "      <td>0.0</td>\n",
              "      <td>0.0</td>\n",
              "      <td>0.0</td>\n",
              "      <td>0.0</td>\n",
              "      <td>0.0</td>\n",
              "      <td>0.0</td>\n",
              "      <td>...</td>\n",
              "      <td>0.0</td>\n",
              "      <td>0.0</td>\n",
              "      <td>0.0</td>\n",
              "      <td>0.0</td>\n",
              "      <td>0.0</td>\n",
              "      <td>0.0</td>\n",
              "      <td>0.0</td>\n",
              "      <td>0.0</td>\n",
              "      <td>0.0</td>\n",
              "      <td>0.0</td>\n",
              "    </tr>\n",
              "  </tbody>\n",
              "</table>\n",
              "<p>5 rows × 1223 columns</p>\n",
              "</div>"
            ],
            "text/plain": [
              "   (500) Days of Summer (2009)  10 Things I Hate About You (1999)  \\\n",
              "0                          0.0                                0.0   \n",
              "1                          0.0                                0.0   \n",
              "2                          0.0                                0.0   \n",
              "3                          0.0                                0.0   \n",
              "4                          0.0                                0.0   \n",
              "\n",
              "   101 Dalmatians (1996)  \\\n",
              "0                    0.0   \n",
              "1                    0.0   \n",
              "2                    0.0   \n",
              "3                    0.0   \n",
              "4                    0.0   \n",
              "\n",
              "   101 Dalmatians (One Hundred and One Dalmatians) (1961)  \\\n",
              "0                                                0.0        \n",
              "1                                                0.0        \n",
              "2                                                0.0        \n",
              "3                                                0.0        \n",
              "4                                                0.0        \n",
              "\n",
              "   12 Angry Men (1957)  12 Years a Slave (2013)  127 Hours (2010)  \\\n",
              "0                  0.0                      0.0               0.0   \n",
              "1                  0.0                      0.0               0.0   \n",
              "2                  0.0                      0.0               0.0   \n",
              "3                  0.0                      0.0               0.0   \n",
              "4                  0.0                      0.0               0.0   \n",
              "\n",
              "   13 Going on 30 (2004)  13th Warrior, The (1999)  \\\n",
              "0                    0.0                       0.0   \n",
              "1                    0.0                       0.0   \n",
              "2                    0.0                       0.0   \n",
              "3                    0.0                       0.0   \n",
              "4                    0.0                       0.0   \n",
              "\n",
              "   2 Fast 2 Furious (Fast and the Furious 2, The) (2003)  ...  \\\n",
              "0                                                0.0      ...   \n",
              "1                                                0.0      ...   \n",
              "2                                                1.0      ...   \n",
              "3                                                0.0      ...   \n",
              "4                                                0.0      ...   \n",
              "\n",
              "   You've Got Mail (1998)  Young Frankenstein (1974)  Young Guns (1988)  \\\n",
              "0                     0.0                        0.0                0.0   \n",
              "1                     0.0                        0.0                0.0   \n",
              "2                     0.0                        0.0                0.0   \n",
              "3                     0.0                        1.0                0.0   \n",
              "4                     0.0                        0.0                0.0   \n",
              "\n",
              "   Zodiac (2007)  Zombieland (2009)  Zoolander (2001)  Zootopia (2016)  \\\n",
              "0            0.0                0.0               0.0              0.0   \n",
              "1            0.0                0.0               0.0              0.0   \n",
              "2            0.0                1.0               1.0              0.0   \n",
              "3            0.0                0.0               1.0              1.0   \n",
              "4            0.0                0.0               0.0              0.0   \n",
              "\n",
              "   eXistenZ (1999)  xXx (2002)  ¡Three Amigos! (1986)  \n",
              "0              0.0         0.0                    0.0  \n",
              "1              0.0         0.0                    0.0  \n",
              "2              0.0         1.0                    0.0  \n",
              "3              0.0         0.0                    0.0  \n",
              "4              0.0         0.0                    0.0  \n",
              "\n",
              "[5 rows x 1223 columns]"
            ]
          },
          "execution_count": 16,
          "metadata": {},
          "output_type": "execute_result"
        }
      ],
      "source": [
        "users.drop(columns='userId', inplace=True)\n",
        "users.head()"
      ]
    },
    {
      "cell_type": "code",
      "execution_count": 17,
      "metadata": {
        "colab": {
          "base_uri": "https://localhost:8080/"
        },
        "id": "KJ_S2AaUmeoC",
        "outputId": "a8f32eb6-07c0-4ed7-de0e-7b129f28703a"
      },
      "outputs": [
        {
          "name": "stdout",
          "output_type": "stream",
          "text": [
            "<class 'pandas.core.frame.DataFrame'>\n",
            "RangeIndex: 162520 entries, 0 to 162519\n",
            "Columns: 1223 entries, (500) Days of Summer (2009) to ¡Three Amigos! (1986)\n",
            "dtypes: float64(1223)\n",
            "memory usage: 1.5 GB\n"
          ]
        }
      ],
      "source": [
        "users.info()"
      ]
    },
    {
      "cell_type": "markdown",
      "metadata": {
        "id": "XZQXXNOd7M7S"
      },
      "source": [
        "Experiment to check randomized recommendations"
      ]
    },
    {
      "cell_type": "code",
      "execution_count": 18,
      "metadata": {
        "colab": {
          "base_uri": "https://localhost:8080/"
        },
        "id": "FR0XNsPI7cpC",
        "outputId": "0aef64d2-fd16-441c-da68-d3923e27452e"
      },
      "outputs": [
        {
          "name": "stderr",
          "output_type": "stream",
          "text": [
            "100%|██████████| 500/500 [00:42<00:00, 11.89it/s]\n"
          ]
        }
      ],
      "source": [
        "num_users = len(users)\n",
        "num_movies = len(users.columns)\n",
        "movies_selected = []\n",
        "numbers_of_selections = [0] * num_movies\n",
        "mean_reward = []\n",
        "cummulative_total_reward = []\n",
        "total_reward = 0\n",
        "batch_size = 170\n",
        "iteration = 1\n",
        "\n",
        "# 500x replay\n",
        "for replay in tqdm(range(500)):\n",
        "  for n in range(0, num_users, batch_size): # \n",
        "    # raffles the film to recommend to the user\n",
        "    movies = np.random.choice(num_movies, size=5, replace=False)\n",
        "    for movie in movies:\n",
        "      movies_selected.append(movie) # stores recommended movies\n",
        "      numbers_of_selections[movie] += batch_size # adds the count to the number of times the movie was selected\n",
        "    # The reward is calculated by adding up the total positive ratings for each film's batch\n",
        "    reward = sum([users.values[n:n+batch_size, movie].sum() for movie in movies])\n",
        "    # Soma a recompensa conseguida pelo agente à recompensa total\n",
        "    total_reward += reward \n",
        "    # Adds the agent's reward to the total reward\n",
        "    cummulative_total_reward.append(total_reward)\n",
        "    # adds the average reward to the average rewards list\n",
        "    mean_reward.append(total_reward / (iteration * batch_size)) # the average reward: total reward divided by the number of iterations times the number of referrals each iteration\n",
        "    iteration += 1"
      ]
    },
    {
      "cell_type": "code",
      "execution_count": 19,
      "metadata": {
        "colab": {
          "base_uri": "https://localhost:8080/"
        },
        "id": "F3vtrKZl7oH5",
        "outputId": "e73e1dbb-eece-44ac-dcf1-86fa9cced3f6"
      },
      "outputs": [
        {
          "name": "stdout",
          "output_type": "stream",
          "text": [
            "total reward:  28553867.0\n"
          ]
        }
      ],
      "source": [
        "print('total reward: ', total_reward)"
      ]
    },
    {
      "cell_type": "code",
      "execution_count": 20,
      "metadata": {
        "colab": {
          "base_uri": "https://localhost:8080/",
          "height": 36
        },
        "id": "BYXYjOVBu7hW",
        "outputId": "18698d80-11aa-4200-9be1-e2fe73d38c52"
      },
      "outputs": [
        {
          "name": "stdout",
          "output_type": "stream",
          "text": [
            "Most selected film:  Englishman Who Went Up a Hill But Came Down a Mountain, The (1995)\n"
          ]
        }
      ],
      "source": [
        "print('Most selected film: ', users.columns.to_list()[np.argmax(numbers_of_selections)])"
      ]
    },
    {
      "cell_type": "code",
      "execution_count": 21,
      "metadata": {
        "colab": {
          "base_uri": "https://localhost:8080/",
          "height": 595
        },
        "id": "U6j16JWXv_eb",
        "outputId": "278ccaf0-9d5c-4ea7-f70b-2b9b6749b687"
      },
      "outputs": [
        {
          "data": {
            "image/png": "[encoded data removed]",
            "text/plain": [
              "<Figure size 1080x720 with 1 Axes>"
            ]
          },
          "metadata": {
            "needs_background": "light"
          },
          "output_type": "display_data"
        }
      ],
      "source": [
        "plt.figure(figsize=(15, 10))\n",
        "plt.plot(mean_reward)\n",
        "plt.xscale('log')\n",
        "plt.title('Random - average reward')\n",
        "plt.show()"
      ]
    },
    {
      "cell_type": "code",
      "execution_count": 22,
      "metadata": {
        "colab": {
          "base_uri": "https://localhost:8080/",
          "height": 602
        },
        "id": "9ajOdqTowpf6",
        "outputId": "0ca3e0f1-9158-4276-a25a-cc7813862026"
      },
      "outputs": [
        {
          "data": {
            "image/png": "[encoded data removed]",
            "text/plain": [
              "<Figure size 1080x720 with 1 Axes>"
            ]
          },
          "metadata": {
            "needs_background": "light"
          },
          "output_type": "display_data"
        }
      ],
      "source": [
        "plt.figure(figsize=(15, 10))\n",
        "plt.plot(cummulative_total_reward)\n",
        "plt.xscale('log')\n",
        "plt.title('Random - Total cumulative reward')\n",
        "plt.show()"
      ]
    },
    {
      "cell_type": "markdown",
      "metadata": {
        "id": "IkHh2mDteJ9X"
      },
      "source": [
        "## $\\epsilon$-greedy"
      ]
    },
    {
      "cell_type": "code",
      "execution_count": 23,
      "metadata": {
        "colab": {
          "base_uri": "https://localhost:8080/"
        },
        "id": "mYvKRH7butk7",
        "outputId": "4986ac0a-bb1d-434d-ed84-f223de920c8c"
      },
      "outputs": [
        {
          "name": "stderr",
          "output_type": "stream",
          "text": [
            "100%|██████████| 6/6 [22:45<00:00, 227.62s/it]"
          ]
        },
        {
          "name": "stdout",
          "output_type": "stream",
          "text": [
            "\n",
            "\n",
            "total reward e=0.01:  25230000.0 total reward e=0.05:  178302132.0 total reward e=0.1:  167615923.0 total reward e=0.4:  121217757.0 total reward e=0.7:  74759083.0 total reward e=1:  27915468.0\n"
          ]
        },
        {
          "name": "stderr",
          "output_type": "stream",
          "text": [
            "\n"
          ]
        }
      ],
      "source": [
        "num_users = len(users)\n",
        "num_movies = len(users.columns)\n",
        "e_values = {0: [], 0.01: [], 0.1:[], 0.4:[], 0.7:[], 1:[]}\n",
        "exploi_explor = [0, 1] # values ​​that will be sampled with epsilon probabilities to simulate the actions of 0=exploit and 1=explore\n",
        "batch_size = 170\n",
        "\n",
        "for e, results in tqdm(e_values.items()): # iterates over a dictionary with the different epsilon values ​​and stores the results for each value\n",
        "  movies_selected = [] # stores the selected movies in each iteration\n",
        "  numbers_of_selections = [0] * num_movies # number of selections from each film\n",
        "  sums_of_reward = [0] * num_movies # total reward of each movie\n",
        "  mean_reward = [0] * num_movies # average reward of each movie\n",
        "  total_mean_reward = [] # average reward of each iteration\n",
        "  cummulative_total_reward = [] # total accumulated reward\n",
        "  total_reward = 0\n",
        "  iteration = 1\n",
        "  \n",
        "  for replay in range(500):\n",
        "    for n in range(0, num_users, batch_size):\n",
        "      action = np.random.choice(exploi_explor, 1, p=[1-e, e]) # draws between exploit actions explore with exploit probability = 1-epsilon and explore=epsilon\n",
        "      if action == 0: # exploit action\n",
        "        if not movies_selected: # if no film was chosen, start by indicating films from 0 to 4\n",
        "          movies = [0, 1, 2, 3, 4]\n",
        "        else:\n",
        "          movies = sorted(range(num_movies), key=lambda m: mean_reward[m], reverse=True)[:5] # exploit movie that has the highest average rewards to date\n",
        "      \n",
        "      else: # ação de explore\n",
        "        if not movies_selected: # if no film was chosen, start by indicating films from 0 to 4\n",
        "          movies = [0, 1, 2, 3, 4]\n",
        "        else:\n",
        "          movies = np.random.choice(num_movies, size=5, replace=False) # draws 5 films to explore; continues raffling until choosing films other than those that currently have the highest average reward\n",
        "          while (set(movies) & set(sorted(range(num_movies), key=lambda m: mean_reward[m], reverse=True)[:5])): # checks if the lists contain at least 1 movie in common\n",
        "            movies = np.random.choice(num_movies, size=5, replace=False)\n",
        "      \n",
        "      rewards = []\n",
        "      for movie in movies:\n",
        "        movies_selected.append(movie)\n",
        "        numbers_of_selections[movie] += batch_size\n",
        "        reward = users.values[n:n+batch_size, movie].sum()\n",
        "        sums_of_reward[movie] += reward\n",
        "        rewards.append(reward)\n",
        "        mean_reward[movie] = sums_of_reward[movie] / numbers_of_selections[movie]\n",
        "      \n",
        "      total_reward += sum(rewards)\n",
        "      total_mean_reward.append(total_reward / (iteration * batch_size))\n",
        "      cummulative_total_reward.append(total_reward)\n",
        "      iteration += 1     \n",
        "\n",
        "\n",
        "  results.append(total_reward)\n",
        "  results.append(total_mean_reward)\n",
        "  results.append(mean_reward)\n",
        "  results.append(numbers_of_selections)\n",
        "  results.append(sums_of_reward)\n",
        "  results.append(cummulative_total_reward)\n",
        "\n",
        "print('')\n",
        "print('')\n",
        "print('total reward e=0.01: ', e_values[0][0],\n",
        "      'total reward e=0.05: ', e_values[0.01][0],\n",
        "      'total reward e=0.1: ', e_values[0.1][0], \n",
        "      'total reward e=0.4: ', e_values[0.4][0], \n",
        "      'total reward e=0.7: ', e_values[0.7][0],\n",
        "      'total reward e=1: ', e_values[1][0])"
      ]
    },
    {
      "cell_type": "code",
      "execution_count": 24,
      "metadata": {
        "colab": {
          "base_uri": "https://localhost:8080/"
        },
        "id": "GtbwsMhD4L4F",
        "outputId": "3ae69636-c125-41f3-f604-1e051b150b36"
      },
      "outputs": [
        {
          "name": "stdout",
          "output_type": "stream",
          "text": [
            "total reward e=0:  25230000.0\n",
            "Most selected film e=0:  (500) Days of Summer (2009)\n",
            "-> Number of selections of the most selected movie:  81260000\n",
            "Top 5 filmes e=0:  ['(500) Days of Summer (2009)', '10 Things I Hate About You (1999)', '101 Dalmatians (1996)', '101 Dalmatians (One Hundred and One Dalmatians) (1961)', '12 Angry Men (1957)']\n",
            "\n",
            "total reward e=0.01:  178302132.0\n",
            "Most selected film e=0.01:  Silence of the Lambs, The (1991)\n",
            "-> Number of selections of the most selected movie:  80392320\n",
            "Top 5 e=0.01:  ['Silence of the Lambs, The (1991)', 'Forrest Gump (1994)', 'Pulp Fiction (1994)', 'Matrix, The (1999)', 'Shawshank Redemption, The (1994)']\n",
            "\n",
            "total reward e=0.1:  167615923.0\n",
            "Most selected film e=0.1:  Pulp Fiction (1994)\n",
            "-> Number of selections of the most selected movie:  73035910\n",
            "Top 5 e=0.1:  ['Pulp Fiction (1994)', 'Forrest Gump (1994)', 'Matrix, The (1999)', 'Shawshank Redemption, The (1994)', 'Silence of the Lambs, The (1991)']\n",
            "\n",
            "total reward e=0.4:  121217757.0\n",
            "Most selected film e=0.4:  Matrix, The (1999)\n",
            "-> Number of selections of the most selected movie:  48737130\n",
            "Top 5 e=0.4:  ['Matrix, The (1999)', 'Pulp Fiction (1994)', 'Shawshank Redemption, The (1994)', 'Silence of the Lambs, The (1991)', 'Forrest Gump (1994)']\n",
            "\n",
            "total reward e=0.7:  74759083.0\n",
            "Most selected film e=0.7:  Silence of the Lambs, The (1991)\n",
            "-> Number of selections of the most selected movie:  24471840\n",
            "Top 5 e=0.7:  ['Silence of the Lambs, The (1991)', 'Matrix, The (1999)', 'Shawshank Redemption, The (1994)', 'Pulp Fiction (1994)', 'Forrest Gump (1994)']\n",
            "\n",
            "total reward e=1:  27915468.0\n",
            "Most selected film e=1:  Twelve Monkeys (a.k.a. 12 Monkeys) (1995)\n",
            "-> Number of selections of the most selected movie:  370600\n",
            "Top 3 e=1:  ['Twelve Monkeys (a.k.a. 12 Monkeys) (1995)', 'Brady Bunch Movie, The (1995)', 'Whiplash (2014)', 'Moulin Rouge (2001)', '13th Warrior, The (1999)']\n"
          ]
        }
      ],
      "source": [
        "print('total reward e=0: ', e_values[0][0])\n",
        "print('Most selected film e=0: ', users.columns.to_list()[np.argmax(e_values[0][3])])\n",
        "print('-> Number of selections of the most selected movie: ', e_values[0][3][np.argmax(e_values[0][3])])\n",
        "print('Top 5 filmes e=0: ', [users.columns.to_list()[m] for m in sorted(range(num_movies), key=lambda m: e_values[0][3][m], reverse=True)[:5]])\n",
        "print('')\n",
        "print('total reward e=0.01: ', e_values[0.01][0])\n",
        "print('Most selected film e=0.01: ', users.columns.to_list()[np.argmax(e_values[0.01][3])])\n",
        "print('-> Number of selections of the most selected movie: ', e_values[0.01][3][np.argmax(e_values[0.01][3])])\n",
        "print('Top 5 e=0.01: ', [users.columns.to_list()[m] for m in sorted(range(num_movies), key=lambda m: e_values[0.01][3][m], reverse=True)[:5]])\n",
        "print('')\n",
        "print('total reward e=0.1: ', e_values[0.1][0])\n",
        "print('Most selected film e=0.1: ', users.columns.to_list()[np.argmax(e_values[0.1][3])])\n",
        "print('-> Number of selections of the most selected movie: ', e_values[0.1][3][np.argmax(e_values[0.1][3])])\n",
        "print('Top 5 e=0.1: ', [users.columns.to_list()[m] for m in sorted(range(num_movies), key=lambda m: e_values[0.1][3][m], reverse=True)[:5]])\n",
        "print('')\n",
        "print('total reward e=0.4: ', e_values[0.4][0])\n",
        "print('Most selected film e=0.4: ', users.columns.to_list()[np.argmax(e_values[0.4][3])])\n",
        "print('-> Number of selections of the most selected movie: ', e_values[0.4][3][np.argmax(e_values[0.4][3])])\n",
        "print('Top 5 e=0.4: ', [users.columns.to_list()[m] for m in sorted(range(num_movies), key=lambda m: e_values[0.4][3][m], reverse=True)[:5]])\n",
        "print('')\n",
        "print('total reward e=0.7: ', e_values[0.7][0])\n",
        "print('Most selected film e=0.7: ', users.columns.to_list()[np.argmax(e_values[0.7][3])])\n",
        "print('-> Number of selections of the most selected movie: ', e_values[0.7][3][np.argmax(e_values[0.7][3])])\n",
        "print('Top 5 e=0.7: ', [users.columns.to_list()[m] for m in sorted(range(num_movies), key=lambda m: e_values[0.7][3][m], reverse=True)[:5]])\n",
        "print('')\n",
        "print('total reward e=1: ', e_values[1][0])\n",
        "print('Most selected film e=1: ', users.columns.to_list()[np.argmax(e_values[1][3])])\n",
        "print('-> Number of selections of the most selected movie: ', e_values[1][3][np.argmax(e_values[1][3])])\n",
        "print('Top 3 e=1: ', [users.columns.to_list()[m] for m in sorted(range(num_movies), key=lambda m: e_values[1][3][m], reverse=True)[:5]])\n"
      ]
    },
    {
      "cell_type": "markdown",
      "metadata": {
        "id": "VRjuHmuvu6FC"
      },
      "source": [
        "Charts"
      ]
    },
    {
      "cell_type": "code",
      "execution_count": 25,
      "metadata": {
        "colab": {
          "base_uri": "https://localhost:8080/",
          "height": 611
        },
        "id": "Ddj8zFVAjgEF",
        "outputId": "c936f2b6-46b9-4ca2-e021-ec10f890fe03"
      },
      "outputs": [
        {
          "data": {
            "image/png": "[encoded data removed]",
            "text/plain": [
              "<Figure size 1080x720 with 1 Axes>"
            ]
          },
          "metadata": {
            "needs_background": "light"
          },
          "output_type": "display_data"
        }
      ],
      "source": [
        "plt.figure(figsize=(15, 10))\n",
        "plt.plot(e_values[0][1], label = \"e = 0\")\n",
        "plt.plot(e_values[0.01][1], label = \"e = 0.01\")\n",
        "plt.plot(e_values[0.1][1], label = \"e = 0.1\")\n",
        "plt.plot(e_values[0.4][1], label = \"e = 0.4\")\n",
        "plt.plot(e_values[0.7][1], label = \"e = 0.7\")\n",
        "plt.plot(e_values[1][1], label = \"e = 1\")\n",
        "plt.title('E-greedy - Mean reward with different values of epsilon')\n",
        "plt.xscale('log')\n",
        "plt.legend()\n",
        "plt.show()"
      ]
    },
    {
      "cell_type": "code",
      "execution_count": 26,
      "metadata": {
        "colab": {
          "base_uri": "https://localhost:8080/",
          "height": 611
        },
        "id": "ChaRLLp34KMP",
        "outputId": "4f1b448d-70c3-4574-f69c-9f1e93b11fd5"
      },
      "outputs": [
        {
          "data": {
            "image/png": "[encoded data removed]",
            "text/plain": [
              "<Figure size 1080x720 with 1 Axes>"
            ]
          },
          "metadata": {
            "needs_background": "light"
          },
          "output_type": "display_data"
        }
      ],
      "source": [
        "plt.figure(figsize=(15, 10))\n",
        "plt.plot(e_values[0][5], label = \"e = 0\")\n",
        "plt.plot(e_values[0.01][5], label = \"e = 0.01\")\n",
        "plt.plot(e_values[0.1][5], label = \"e = 0.1\")\n",
        "plt.plot(e_values[0.4][5], label = \"e = 0.4\")\n",
        "plt.plot(e_values[0.7][5], label = \"e = 0.7\")\n",
        "plt.plot(e_values[1][5], label = \"e = 1\")\n",
        "plt.title('E-greedy - Total reward with different values of epsilon')\n",
        "plt.xscale('log')\n",
        "plt.legend()\n",
        "plt.show()"
      ]
    },
    {
      "cell_type": "markdown",
      "metadata": {
        "id": "YlsbD2Pf7oyf"
      },
      "source": [
        "Estratégia UCB"
      ]
    },
    {
      "cell_type": "code",
      "execution_count": 27,
      "metadata": {
        "colab": {
          "base_uri": "https://localhost:8080/",
          "height": 264
        },
        "id": "TZAi3SbCqynJ",
        "outputId": "6402f665-db87-40ff-8690-3fa8f94f70fc"
      },
      "outputs": [
        {
          "name": "stderr",
          "output_type": "stream",
          "text": [
            "100%|██████████| 5/5 [1:11:41<00:00, 860.40s/it]"
          ]
        },
        {
          "name": "stdout",
          "output_type": "stream",
          "text": [
            "\n",
            "\n",
            "total reward c=0.01:  183414278.0 total reward c=1:  183407262.0 total reward c=3:  183026320.0 total reward c=6:  181766852.0 total reward c=10:  178823471.0\n"
          ]
        },
        {
          "name": "stderr",
          "output_type": "stream",
          "text": [
            "\n"
          ]
        }
      ],
      "source": [
        "num_iterations = len(users)\n",
        "num_movies = len(users.columns)\n",
        "c_values = {0.01:[], 1:[], 3:[], 6:[], 10:[]} # dictionary with the different values ​​of c\n",
        "batch_size = 170\n",
        "\n",
        "for c, results in tqdm(c_values.items()):\n",
        "  movies_selected = [] # movie selected in each iteration\n",
        "  numbers_of_selections = [0] * num_movies # number of selections from each film\n",
        "  sums_of_reward = [0] * num_movies # total reward of each movie\n",
        "  mean_reward = [0] * num_movies # average reward of each movie\n",
        "  total_mean_reward = [] # average reward of each iteration\n",
        "  cummulative_total_reward = [] # total accumulated reward\n",
        "  upper_bounds = [0] * num_movies # stores the upper_bound of each movie\n",
        "  total_reward = 0\n",
        "  iteration = 1\n",
        "  \n",
        "  for replay in range(500):\n",
        "    for n in range(0, num_iterations, batch_size):\n",
        "      movie = 0\n",
        "      for i in range(0, num_movies):\n",
        "        if (numbers_of_selections[i] > 0): # checks if the movie has already been selected and updates its upper bound\n",
        "          average_reward = sums_of_reward[i] / numbers_of_selections[i]\n",
        "          delta_i = c * math.sqrt(math.log(n+1) / numbers_of_selections[i])\n",
        "          upper_bound = average_reward + delta_i\n",
        "          upper_bounds[i] = upper_bound\n",
        "        else:\n",
        "          upper_bound = 1e400 # if the movie was not selected, the upper bound is infinite\n",
        "          upper_bounds[i] = upper_bound\n",
        "      \n",
        "      movies = sorted(range(num_movies), key=lambda m: upper_bounds[m], reverse=True)[:5] # selects the 5 films with the highest upper_bound\n",
        "      \n",
        "      rewards = []\n",
        "      for movie in movies:\n",
        "        movies_selected.append(movie)\n",
        "        numbers_of_selections[movie] += batch_size\n",
        "        reward = users.values[n:n+batch_size, movie].sum()\n",
        "        sums_of_reward[movie] += reward\n",
        "        rewards.append(reward)\n",
        "        mean_reward[movie] = sums_of_reward[movie] / numbers_of_selections[movie]\n",
        "      \n",
        "      total_reward += sum(rewards)\n",
        "      total_mean_reward.append(total_reward / (iteration * batch_size))\n",
        "      cummulative_total_reward.append(total_reward)\n",
        "      iteration += 1    \n",
        "\n",
        "\n",
        "  results.append(total_reward)\n",
        "  results.append(total_mean_reward)\n",
        "  results.append(mean_reward)\n",
        "  results.append(numbers_of_selections)\n",
        "  results.append(sums_of_reward)\n",
        "  results.append(cummulative_total_reward)\n",
        "\n",
        "print('')\n",
        "print('')\n",
        "print('total reward c=0.01: ', c_values[0.01][0], \n",
        "      'total reward c=1: ', c_values[1][0], \n",
        "      'total reward c=3: ', c_values[3][0], \n",
        "      'total reward c=6: ', c_values[6][0], \n",
        "      'total reward c=10: ', c_values[10][0])"
      ]
    },
    {
      "cell_type": "code",
      "execution_count": 28,
      "metadata": {
        "id": "7ARD0f6RvxmG"
      },
      "outputs": [
        {
          "name": "stdout",
          "output_type": "stream",
          "text": [
            "total reward c=0.01:  183414278.0\n",
            "Most selected film c=0.1:  Pulp Fiction (1994)\n",
            "-> Number of selections of the most selected movie:  81218690\n",
            "Top 5 filmes c=0.1:  ['Pulp Fiction (1994)', 'Shawshank Redemption, The (1994)', 'Forrest Gump (1994)', 'Matrix, The (1999)', 'Silence of the Lambs, The (1991)']\n",
            "\n",
            "total reward c=1:  183407262.0\n",
            "Most selected film c=1:  Shawshank Redemption, The (1994)\n",
            "-> Number of selections of the most selected movie:  81218690\n",
            "Top 5 c=1:  ['Shawshank Redemption, The (1994)', 'Forrest Gump (1994)', 'Pulp Fiction (1994)', 'Silence of the Lambs, The (1991)', 'Matrix, The (1999)']\n",
            "\n",
            "total reward c=3:  183026320.0\n",
            "Most selected film c=3:  Shawshank Redemption, The (1994)\n",
            "-> Number of selections of the most selected movie:  81129610\n",
            "Top 5 c=3:  ['Shawshank Redemption, The (1994)', 'Forrest Gump (1994)', 'Pulp Fiction (1994)', 'Silence of the Lambs, The (1991)', 'Matrix, The (1999)']\n",
            "\n",
            "total reward c=6:  181766852.0\n",
            "Most selected film c=6:  Shawshank Redemption, The (1994)\n",
            "-> Number of selections of the most selected movie:  80818340\n",
            "Top 5 c=6:  ['Shawshank Redemption, The (1994)', 'Forrest Gump (1994)', 'Pulp Fiction (1994)', 'Silence of the Lambs, The (1991)', 'Matrix, The (1999)']\n",
            "\n",
            "total reward c=10:  178823471.0\n",
            "Most selected film c=10:  Shawshank Redemption, The (1994)\n",
            "-> Number of selections of the most selected movie:  80023760\n",
            "Top 5 c=10:  ['Shawshank Redemption, The (1994)', 'Forrest Gump (1994)', 'Pulp Fiction (1994)', 'Silence of the Lambs, The (1991)', 'Matrix, The (1999)']\n"
          ]
        }
      ],
      "source": [
        "print('total reward c=0.01: ', c_values[0.01][0])\n",
        "print('Most selected film c=0.1: ', users.columns.to_list()[np.argmax(c_values[0.01][3])])\n",
        "print('-> Number of selections of the most selected movie: ', c_values[0.01][3][np.argmax(c_values[0.01][3])])\n",
        "print('Top 5 filmes c=0.1: ', [users.columns.to_list()[m] for m in sorted(range(num_movies), key=lambda m: c_values[0.01][3][m], reverse=True)[:5]])\n",
        "print('')\n",
        "print('total reward c=1: ', c_values[1][0])\n",
        "print('Most selected film c=1: ', users.columns.to_list()[np.argmax(c_values[1][3])])\n",
        "print('-> Number of selections of the most selected movie: ', c_values[1][3][np.argmax(c_values[1][3])])\n",
        "print('Top 5 c=1: ', [users.columns.to_list()[m] for m in sorted(range(num_movies), key=lambda m: c_values[1][3][m], reverse=True)[:5]])\n",
        "print('')\n",
        "print('total reward c=3: ', c_values[3][0])\n",
        "print('Most selected film c=3: ', users.columns.to_list()[np.argmax(c_values[3][3])])\n",
        "print('-> Number of selections of the most selected movie: ', c_values[3][3][np.argmax(c_values[3][3])])\n",
        "print('Top 5 c=3: ', [users.columns.to_list()[m] for m in sorted(range(num_movies), key=lambda m: c_values[3][3][m], reverse=True)[:5]])\n",
        "print('')\n",
        "print('total reward c=6: ', c_values[6][0])\n",
        "print('Most selected film c=6: ', users.columns.to_list()[np.argmax(c_values[6][3])])\n",
        "print('-> Number of selections of the most selected movie: ', c_values[6][3][np.argmax(c_values[6][3])])\n",
        "print('Top 5 c=6: ', [users.columns.to_list()[m] for m in sorted(range(num_movies), key=lambda m: c_values[6][3][m], reverse=True)[:5]])\n",
        "print('')\n",
        "print('total reward c=10: ', c_values[10][0])\n",
        "print('Most selected film c=10: ', users.columns.to_list()[np.argmax(c_values[10][3])])\n",
        "print('-> Number of selections of the most selected movie: ', c_values[10][3][np.argmax(c_values[10][3])])\n",
        "print('Top 5 c=10: ', [users.columns.to_list()[m] for m in sorted(range(num_movies), key=lambda m: c_values[10][3][m], reverse=True)[:5]])"
      ]
    },
    {
      "cell_type": "code",
      "execution_count": 29,
      "metadata": {
        "id": "dGmk72ox0ceH"
      },
      "outputs": [
        {
          "data": {
            "image/png": "[encoded data removed]",
            "text/plain": [
              "<Figure size 1080x720 with 1 Axes>"
            ]
          },
          "metadata": {
            "needs_background": "light"
          },
          "output_type": "display_data"
        }
      ],
      "source": [
        "plt.figure(figsize=(15, 10))\n",
        "plt.plot(c_values[0.01][1], label = \"c = 0.01\")\n",
        "plt.plot(c_values[1][1], label = \"c = 1\")\n",
        "plt.plot(c_values[3][1], label = \"c = 3\")\n",
        "plt.plot(c_values[6][1], label = \"c = 6\")\n",
        "plt.plot(c_values[10][1], label = \"c = 10\")\n",
        "plt.title('UCB - Mean reward with different values of C')\n",
        "plt.xscale('log')\n",
        "plt.legend()\n",
        "plt.show()"
      ]
    },
    {
      "cell_type": "code",
      "execution_count": 30,
      "metadata": {
        "id": "U0wLjkW5-jP1"
      },
      "outputs": [
        {
          "data": {
            "image/png": "[encoded data removed]",
            "text/plain": [
              "<Figure size 1080x720 with 1 Axes>"
            ]
          },
          "metadata": {
            "needs_background": "light"
          },
          "output_type": "display_data"
        }
      ],
      "source": [
        "plt.figure(figsize=(15, 10))\n",
        "plt.plot(c_values[0.01][5], label = \"c = 0.01\")\n",
        "plt.plot(c_values[1][5], label = \"c = 1\")\n",
        "plt.plot(c_values[3][5], label = \"c = 3\")\n",
        "plt.plot(c_values[6][5], label = \"c = 6\")\n",
        "plt.plot(c_values[10][5], label = \"c = 10\")\n",
        "plt.title('UCB - Mean reward with different values of C')\n",
        "plt.xscale('log')\n",
        "plt.legend()\n",
        "plt.show()"
      ]
    },
    {
      "cell_type": "markdown",
      "metadata": {},
      "source": [
        "### Conclusions\n",
        "\n",
        "Random algorithm: the average reward remains very stable over iterations. Total reward at the end:\n",
        "\n",
        "$\\epsilon$-greedy\n",
        "\n",
        "$\\epsilon$ = 0 performs exploit only.\n",
        "\n",
        "Higher values ​​of $\\epsilon$ (0.4, 0.7, 1), which establish more exploitative algorithms, are able to find better-rated movies earlier in iterations. However, because they are explorers, they explore more often and so, even though they have already found the films that return the highest rewards, they remain unexplored and end up reaching the medium reward plateau earlier. So, in the end, they have lower total rewards.\n",
        "\n",
        "In contrast, lower values ​​of $\\epsilon$ (0.01, 0.1), which establish less exploitative algorithms, take longer to find the movies that bring the greatest rewards. However, once they find these movies, they end up doing a lot more exploit actions, which leads to a jump in average rewards after a certain point in the iterations. The less exploitative the algorithm is, the later this jump happens. But when it does happen, the gains are dizzying, both in terms of average reward and total final reward.\n",
        "\n",
        "In the explore scenario, with a high number of replays (500), the best algorithm was the one with the lowest epsilon (less exploitative). In a scenario with less time/resources, a more exploitative algorithm could do better, as it would find the best movies sooner.\n",
        "\n",
        "UCB\n",
        "\n",
        "Algorithms with different values ​​of c behave similarly up to a certain point in the iterations. At the moment when the two algorithms with the lowest values ​​of c (less exploiters) crash on the best movie and start to perform only exploit actions, there is a big jump in the average reward. The three algorithms with the highest c values ​​(more explorers) also reach this jump, but due to the explorer characteristic, they end up performing more explore actions, limiting the average reward level and total reward at the end of the iterations."
      ]
    },
    {
      "cell_type": "markdown",
      "metadata": {},
      "source": [
        "### Best $\\epsilon$-greedy X Best UCB"
      ]
    },
    {
      "cell_type": "code",
      "execution_count": 31,
      "metadata": {},
      "outputs": [
        {
          "data": {
            "image/png": "[encoded data removed]",
            "text/plain": [
              "<Figure size 1080x720 with 1 Axes>"
            ]
          },
          "metadata": {
            "needs_background": "light"
          },
          "output_type": "display_data"
        }
      ],
      "source": [
        "plt.figure(figsize=(15, 10))\n",
        "plt.plot(e_values[0.01][1], label = \"e-greedy e = 0.01\")\n",
        "plt.plot(c_values[0.01][1], label = \"UCB c = 0.01\")\n",
        "plt.title('Mean Reward - Best e-greedy (0.01) x Best UCB (0.01)')\n",
        "plt.xscale('log')\n",
        "plt.legend()\n",
        "plt.show()"
      ]
    },
    {
      "cell_type": "code",
      "execution_count": 32,
      "metadata": {},
      "outputs": [
        {
          "data": {
            "image/png": "[encoded data removed]",
            "text/plain": [
              "<Figure size 1080x720 with 1 Axes>"
            ]
          },
          "metadata": {
            "needs_background": "light"
          },
          "output_type": "display_data"
        }
      ],
      "source": [
        "plt.figure(figsize=(15, 10))\n",
        "plt.plot(e_values[0.01][5], label = \"e-greedy e = 0.01\")\n",
        "plt.plot(c_values[0.01][5], label = \"UCB c = 0.01\")\n",
        "plt.title('Total Reward - Best e-greedy (0.01) x Best UCB (0.01)')\n",
        "plt.xscale('log')\n",
        "plt.legend()\n",
        "plt.show()"
      ]
    },
    {
      "cell_type": "markdown",
      "metadata": {},
      "source": [
        "In the final comparison between the best $\\epsilon$-greedy (e=0.01) and the best UCB (c=0.01), UCB did better in the end.\n",
        "\n",
        "However, it is interesting to observe from the average reward curves that the $\\epsilon$-greedy has a continuous growth over time, while the UCB remains stable for a long period and then grows dramatically. From that inflection point of the curve, the UCB is much better up to a certain point where the two arrive at a similar level of average reward."
      ]
    }
  ],
  "metadata": {
    "colab": {
      "collapsed_sections": [],
      "name": "Cópia de Lista_1_MAB_07-10.ipynb",
      "provenance": []
    },
    "interpreter": {
      "hash": "c0b1b509436871f318b3a001e3d0055a6e9a9cb6c609486aab203fab83e345ca"
    },
    "kernelspec": {
      "display_name": "Python 3.8.3 64-bit ('ai': conda)",
      "name": "python3"
    },
    "language_info": {
      "codemirror_mode": {
        "name": "ipython",
        "version": 3
      },
      "file_extension": ".py",
      "mimetype": "text/x-python",
      "name": "python",
      "nbconvert_exporter": "python",
      "pygments_lexer": "ipython3",
      "version": "3.8.3"
    }
  },
  "nbformat": 4,
  "nbformat_minor": 0
}
